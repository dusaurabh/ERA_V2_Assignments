{
 "cells": [
  {
   "cell_type": "code",
   "execution_count": 1,
   "id": "20a05ad9-5407-45ca-b9ac-54d080d0bf65",
   "metadata": {},
   "outputs": [],
   "source": [
    "from __future__ import print_function\n",
    "import torch\n",
    "import torch.nn as nn\n",
    "import torch.nn.functional as F\n",
    "import torch.optim as optim\n",
    "from torchvision import datasets, transforms"
   ]
  },
  {
   "cell_type": "code",
   "execution_count": 2,
   "id": "fa926f45-805e-4d8b-855e-d7d887f07643",
   "metadata": {},
   "outputs": [],
   "source": [
    "# Train Phase transformations\n",
    "train_transforms = transforms.Compose([\n",
    "                                      #  transforms.Resize((28, 28)),\n",
    "                                      #  transforms.ColorJitter(brightness=0.10, contrast=0.1, saturation=0.10, hue=0.1),\n",
    "                                       transforms.RandomCrop(32, padding=4, padding_mode='reflect'),\n",
    "                                       transforms.RandomHorizontalFlip(),\n",
    "                                       transforms.RandomRotation(15),\n",
    "                                       transforms.ToTensor(),\n",
    "                                       transforms.Normalize((0.4914, 0.4822, 0.4465), (0.2470, 0.2434, 0.2615)) # The mean and std have to be sequences (e.g., tuples), therefore you should add a comma after the values. \n",
    "                                       # Note the difference between (0.1307) and (0.1307,)\n",
    "                                       ])\n",
    "\n",
    "# Test Phase transformations\n",
    "test_transforms = transforms.Compose([\n",
    "                                      #  transforms.Resize((28, 28)),\n",
    "                                      #  transforms.ColorJitter(brightness=0.10, contrast=0.1, saturation=0.10, hue=0.1),\n",
    "                                       transforms.ToTensor(),\n",
    "                                       transforms.Normalize((0.4914, 0.4822, 0.4465), (0.2470, 0.2434, 0.2615))\n",
    "                                       ])\n"
   ]
  },
  {
   "cell_type": "code",
   "execution_count": 3,
   "id": "a3d12010-04d2-4fc2-8365-2ac624bd0645",
   "metadata": {},
   "outputs": [
    {
     "name": "stdout",
     "output_type": "stream",
     "text": [
      "Files already downloaded and verified\n",
      "Files already downloaded and verified\n"
     ]
    }
   ],
   "source": [
    "train = datasets.CIFAR10('./data', train=True, download=True, transform=train_transforms)\n",
    "test = datasets.CIFAR10('./data', train=False, download=True, transform=test_transforms)"
   ]
  },
  {
   "cell_type": "code",
   "execution_count": 4,
   "id": "3cadc49c-0681-4729-97c9-908e5ce049b1",
   "metadata": {},
   "outputs": [
    {
     "name": "stdout",
     "output_type": "stream",
     "text": [
      "CUDA Available? True\n"
     ]
    }
   ],
   "source": [
    "SEED = 1\n",
    "\n",
    "# CUDA?\n",
    "cuda = torch.cuda.is_available()\n",
    "print(\"CUDA Available?\", cuda)\n",
    "\n",
    "# For reproducibility\n",
    "torch.manual_seed(SEED)\n",
    "\n",
    "if cuda:\n",
    "    torch.cuda.manual_seed(SEED)\n",
    "\n",
    "# dataloader arguments - something you'll fetch these from cmdprmt\n",
    "dataloader_args = dict(shuffle=True, batch_size=128, num_workers=4, pin_memory=True) if cuda else dict(shuffle=True, batch_size=64)\n",
    "\n",
    "# train dataloader\n",
    "train_loader = torch.utils.data.DataLoader(train, **dataloader_args)\n",
    "\n",
    "# test dataloader\n",
    "test_loader = torch.utils.data.DataLoader(test, **dataloader_args)"
   ]
  },
  {
   "cell_type": "code",
   "execution_count": 5,
   "id": "83a6ea3a-104f-4862-851c-50e79814acf1",
   "metadata": {},
   "outputs": [
    {
     "name": "stderr",
     "output_type": "stream",
     "text": [
      "Clipping input data to the valid range for imshow with RGB data ([0..1] for floats or [0..255] for integers).\n"
     ]
    },
    {
     "data": {
      "image/png": "[encoded data removed]",
      "text/plain": [
       "<Figure size 640x480 with 1 Axes>"
      ]
     },
     "metadata": {},
     "output_type": "display_data"
    },
    {
     "name": "stdout",
     "output_type": "stream",
     "text": [
      "ship  bird  cat   dog  \n"
     ]
    }
   ],
   "source": [
    "import matplotlib.pyplot as plt\n",
    "import numpy as np\n",
    "\n",
    "# functions to show an image\n",
    "\n",
    "\n",
    "def imshow(img):\n",
    "    img = img / 2 + 0.5     # unnormalize\n",
    "    npimg = img.numpy()\n",
    "    plt.imshow(np.transpose(npimg, (1, 2, 0)))\n",
    "    plt.show()\n",
    "\n",
    "\n",
    "# get some random training images\n",
    "dataiter = iter(train_loader)\n",
    "images, labels = next(dataiter)\n",
    "classes = ('plane', 'car', 'bird', 'cat',\n",
    "           'deer', 'dog', 'frog', 'horse', 'ship', 'truck')\n",
    "\n",
    "import torchvision\n",
    "# show images\n",
    "imshow(torchvision.utils.make_grid(images[:4]))\n",
    "# print labels\n",
    "print(' '.join(f'{classes[labels[j]]:5s}' for j in range(4)))"
   ]
  },
  {
   "cell_type": "code",
   "execution_count": 6,
   "id": "0d6ab27c-6229-4623-885f-b3957a002db8",
   "metadata": {},
   "outputs": [],
   "source": [
    "dropout_value = 0.1\n",
    "class Net(nn.Module):\n",
    "    def __init__(self):\n",
    "        super(Net, self).__init__()\n",
    "        # Input Block\n",
    "        self.convblock1 = nn.Sequential(\n",
    "            nn.Conv2d(in_channels=3, out_channels=32, kernel_size=(7, 7), padding=3, bias=False),\n",
    "            nn.LayerNorm([32, 32, 32]),\n",
    "            nn.ReLU(),\n",
    "            nn.Dropout(dropout_value)\n",
    "        ) # output size = 32, receptive field = 7\n",
    "\n",
    "        # CONVOLUTION BLOCK 1\n",
    "        self.convblock2 = nn.Sequential(\n",
    "            nn.Conv2d(in_channels=32, out_channels=32, kernel_size=(3, 3), padding=1, bias=False),\n",
    "            nn.LayerNorm([32, 32, 32]),\n",
    "            nn.ReLU(),\n",
    "            nn.Dropout(dropout_value)\n",
    "        ) # output_size = 32, receptive field = 9\n",
    "\n",
    "\n",
    "        # TRANSITION BLOCK 1\n",
    "        self.convblock3 = nn.Sequential(\n",
    "            nn.Conv2d(in_channels=32, out_channels=16, kernel_size=(1, 1), padding=0, bias=False),\n",
    "        )  # output size = 32, receptive field = 9\n",
    "        self.pool1 = nn.MaxPool2d(2, 2)  # output size = 16, receptive field = 11\n",
    "\n",
    "        self.convblock4 = nn.Sequential(\n",
    "            nn.Conv2d(in_channels=16, out_channels=32, kernel_size=(3,3), padding = 1, bias=False),\n",
    "            nn.LayerNorm([32, 16, 16]),\n",
    "            nn.ReLU(),\n",
    "            nn.Dropout(dropout_value)\n",
    "        ) # output_size = 16, receptive field = 13\n",
    "\n",
    "        self.convblock5 = nn.Sequential(\n",
    "            nn.Conv2d(in_channels=32, out_channels=16, kernel_size=(3,3), padding = 1, bias=False),\n",
    "            nn.LayerNorm([16, 16, 16]),\n",
    "            nn.ReLU(),\n",
    "            nn.Dropout(dropout_value)\n",
    "        ) # output_size = 16, receptive field = 15\n",
    "\n",
    "        self.convblock6 = nn.Sequential(\n",
    "            nn.Conv2d(in_channels=16, out_channels=32, kernel_size=(3,3), padding = 1, bias=False),\n",
    "            nn.LayerNorm([32, 16, 16]),\n",
    "            nn.ReLU(),\n",
    "            nn.Dropout(dropout_value)\n",
    "        ) # output_size = 16, receptive field = 17\n",
    "\n",
    "        # TRANSITION BLOCK 2\n",
    "        self.convblock7 = nn.Sequential(\n",
    "            nn.Conv2d(in_channels=32, out_channels=16, kernel_size=(1, 1), padding=0, bias=False),\n",
    "        ) # output size = 16, receptive field = 17\n",
    "        self.pool2 = nn.MaxPool2d(2, 2) # output_size = 8, receptive field = 19\n",
    "\n",
    "        self.convblock8 = nn.Sequential(\n",
    "            nn.Conv2d(in_channels=16, out_channels=32, kernel_size=(3,3), padding = 1, bias=False),\n",
    "            nn.LayerNorm([32, 8, 8]),\n",
    "            nn.ReLU(),\n",
    "            nn.Dropout(dropout_value)\n",
    "        ) # output_size = 8, receptive_field = 21\n",
    "\n",
    "        self.convblock9 = nn.Sequential(\n",
    "            nn.Conv2d(in_channels=32, out_channels=32, kernel_size=(3,3), padding = 1, bias=False),\n",
    "            nn.LayerNorm([32, 8, 8]),\n",
    "            nn.ReLU(),\n",
    "            nn.Dropout(dropout_value)\n",
    "        ) # output_size = 8, receptive_field = 23\n",
    "\n",
    "        self.convblock10 = nn.Sequential(\n",
    "            nn.Conv2d(in_channels=32, out_channels=32, kernel_size=(3,3), padding = 1, bias=False),\n",
    "            nn.LayerNorm([32, 8, 8]),\n",
    "            nn.ReLU(),\n",
    "            nn.Dropout(dropout_value)\n",
    "        ) # output_size = 8, receptive_field = 25\n",
    "\n",
    "        # OUTPUT BLOCK\n",
    "        self.gap = nn.Sequential(\n",
    "            nn.AvgPool2d(kernel_size=6)\n",
    "        ) # output_size = 1, receptive_field = 55\n",
    "\n",
    "        self.convblock11 = nn.Sequential(\n",
    "            nn.Conv2d(in_channels=32, out_channels=10, kernel_size=(1, 1), padding=0, bias=False),\n",
    "        ) # output_size = 1, receptive_field = 55\n",
    "        \n",
    "        self.dropout = nn.Dropout(dropout_value)\n",
    "\n",
    "    def forward(self, x):\n",
    "        x = self.convblock1(x)\n",
    "        x = self.convblock2(x)\n",
    "        x = self.convblock3(x)\n",
    "        x = self.dropout(x)\n",
    "        x = self.pool1(x)\n",
    "        x = self.convblock4(x)\n",
    "        x = self.convblock5(x)\n",
    "        x = self.convblock6(x)\n",
    "        x = self.convblock7(x)\n",
    "        x = self.dropout(x)\n",
    "        x = self.pool2(x)\n",
    "        x = self.convblock8(x)\n",
    "        x = self.convblock9(x)\n",
    "        x = self.convblock10(x)\n",
    "        x = self.gap(x)        \n",
    "        x = self.convblock11(x)\n",
    "        x = x.view(-1, 10)\n",
    "        return F.log_softmax(x, dim=-1)"
   ]
  },
  {
   "cell_type": "code",
   "execution_count": 7,
   "id": "82162752-3360-419f-85e4-ad5160cee825",
   "metadata": {},
   "outputs": [
    {
     "name": "stdout",
     "output_type": "stream",
     "text": [
      "cuda\n",
      "----------------------------------------------------------------\n",
      "        Layer (type)               Output Shape         Param #\n",
      "================================================================\n",
      "            Conv2d-1           [-1, 32, 32, 32]           4,704\n",
      "         LayerNorm-2           [-1, 32, 32, 32]          65,536\n",
      "              ReLU-3           [-1, 32, 32, 32]               0\n",
      "           Dropout-4           [-1, 32, 32, 32]               0\n",
      "            Conv2d-5           [-1, 32, 32, 32]           9,216\n",
      "         LayerNorm-6           [-1, 32, 32, 32]          65,536\n",
      "              ReLU-7           [-1, 32, 32, 32]               0\n",
      "           Dropout-8           [-1, 32, 32, 32]               0\n",
      "            Conv2d-9           [-1, 16, 32, 32]             512\n",
      "          Dropout-10           [-1, 16, 32, 32]               0\n",
      "        MaxPool2d-11           [-1, 16, 16, 16]               0\n",
      "           Conv2d-12           [-1, 32, 16, 16]           4,608\n",
      "        LayerNorm-13           [-1, 32, 16, 16]          16,384\n",
      "             ReLU-14           [-1, 32, 16, 16]               0\n",
      "          Dropout-15           [-1, 32, 16, 16]               0\n",
      "           Conv2d-16           [-1, 16, 16, 16]           4,608\n",
      "        LayerNorm-17           [-1, 16, 16, 16]           8,192\n",
      "             ReLU-18           [-1, 16, 16, 16]               0\n",
      "          Dropout-19           [-1, 16, 16, 16]               0\n",
      "           Conv2d-20           [-1, 32, 16, 16]           4,608\n",
      "        LayerNorm-21           [-1, 32, 16, 16]          16,384\n",
      "             ReLU-22           [-1, 32, 16, 16]               0\n",
      "          Dropout-23           [-1, 32, 16, 16]               0\n",
      "           Conv2d-24           [-1, 16, 16, 16]             512\n",
      "          Dropout-25           [-1, 16, 16, 16]               0\n",
      "        MaxPool2d-26             [-1, 16, 8, 8]               0\n",
      "           Conv2d-27             [-1, 32, 8, 8]           4,608\n",
      "        LayerNorm-28             [-1, 32, 8, 8]           4,096\n",
      "             ReLU-29             [-1, 32, 8, 8]               0\n",
      "          Dropout-30             [-1, 32, 8, 8]               0\n",
      "           Conv2d-31             [-1, 32, 8, 8]           9,216\n",
      "        LayerNorm-32             [-1, 32, 8, 8]           4,096\n",
      "             ReLU-33             [-1, 32, 8, 8]               0\n",
      "          Dropout-34             [-1, 32, 8, 8]               0\n",
      "           Conv2d-35             [-1, 32, 8, 8]           9,216\n",
      "        LayerNorm-36             [-1, 32, 8, 8]           4,096\n",
      "             ReLU-37             [-1, 32, 8, 8]               0\n",
      "          Dropout-38             [-1, 32, 8, 8]               0\n",
      "        AvgPool2d-39             [-1, 32, 1, 1]               0\n",
      "           Conv2d-40             [-1, 10, 1, 1]             320\n",
      "================================================================\n",
      "Total params: 236,448\n",
      "Trainable params: 236,448\n",
      "Non-trainable params: 0\n",
      "----------------------------------------------------------------\n",
      "Input size (MB): 0.01\n",
      "Forward/backward pass size (MB): 3.16\n",
      "Params size (MB): 0.90\n",
      "Estimated Total Size (MB): 4.08\n",
      "----------------------------------------------------------------\n"
     ]
    }
   ],
   "source": [
    "from torchsummary import summary\n",
    "use_cuda = torch.cuda.is_available()\n",
    "device = torch.device(\"cuda\" if use_cuda else \"cpu\")\n",
    "print(device)\n",
    "model = Net().to(device)\n",
    "summary(model, input_size=(3, 32, 32))"
   ]
  },
  {
   "cell_type": "code",
   "execution_count": 8,
   "id": "aa7cf804-da05-4d40-81d8-6943842b387f",
   "metadata": {},
   "outputs": [],
   "source": [
    "from tqdm import tqdm\n",
    "\n",
    "train_losses = []\n",
    "test_losses = []\n",
    "train_acc = []\n",
    "test_acc = []\n",
    "\n",
    "def train(model, device, train_loader, optimizer, epoch):\n",
    "  model.train()\n",
    "  pbar = tqdm(train_loader)\n",
    "  correct = 0\n",
    "  processed = 0\n",
    "  for batch_idx, (data, target) in enumerate(pbar):\n",
    "    # get samples\n",
    "    data, target = data.to(device), target.to(device)\n",
    "\n",
    "    # Init\n",
    "    optimizer.zero_grad()\n",
    "    # In PyTorch, we need to set the gradients to zero before starting to do backpropragation because PyTorch accumulates the gradients on subsequent backward passes. \n",
    "    # Because of this, when you start your training loop, ideally you should zero out the gradients so that you do the parameter update correctly.\n",
    "\n",
    "    # Predict\n",
    "    y_pred = model(data)\n",
    "\n",
    "    # Calculate loss\n",
    "    loss = F.nll_loss(y_pred, target)\n",
    "    train_losses.append(loss)\n",
    "\n",
    "    # Backpropagation\n",
    "    loss.backward()\n",
    "    optimizer.step()\n",
    "\n",
    "    # Update pbar-tqdm\n",
    "    \n",
    "    pred = y_pred.argmax(dim=1, keepdim=True)  # get the index of the max log-probability\n",
    "    correct += pred.eq(target.view_as(pred)).sum().item()\n",
    "    processed += len(data)\n",
    "\n",
    "    pbar.set_description(desc= f'Loss={loss.item()} Batch_id={batch_idx} Accuracy={100*correct/processed:0.2f}')\n",
    "    train_acc.append(100*correct/processed)\n",
    "\n",
    "def test(model, device, test_loader):\n",
    "    model.eval()\n",
    "    test_loss = 0\n",
    "    correct = 0\n",
    "    with torch.no_grad():\n",
    "        for data, target in test_loader:\n",
    "            data, target = data.to(device), target.to(device)\n",
    "            output = model(data)\n",
    "            test_loss += F.nll_loss(output, target, reduction='sum').item()  # sum up batch loss\n",
    "            pred = output.argmax(dim=1, keepdim=True)  # get the index of the max log-probability\n",
    "            correct += pred.eq(target.view_as(pred)).sum().item()\n",
    "\n",
    "    test_loss /= len(test_loader.dataset)\n",
    "    test_losses.append(test_loss)\n",
    "\n",
    "    print('\\nTest set: Average loss: {:.4f}, Accuracy: {}/{} ({:.2f}%)\\n'.format(\n",
    "        test_loss, correct, len(test_loader.dataset),\n",
    "        100. * correct / len(test_loader.dataset)))\n",
    "    \n",
    "    test_acc.append(100. * correct / len(test_loader.dataset))"
   ]
  },
  {
   "cell_type": "code",
   "execution_count": 9,
   "id": "a774deb4-dffa-4537-a8bd-45aa2f3bdadf",
   "metadata": {},
   "outputs": [
    {
     "name": "stdout",
     "output_type": "stream",
     "text": [
      "EPOCH: 0\n"
     ]
    },
    {
     "name": "stderr",
     "output_type": "stream",
     "text": [
      "Loss=1.8939030170440674 Batch_id=390 Accuracy=23.47: 100%|██████████| 391/391 [01:02<00:00,  6.26it/s]\n"
     ]
    },
    {
     "name": "stdout",
     "output_type": "stream",
     "text": [
      "\n",
      "Test set: Average loss: 1.9187, Accuracy: 2695/10000 (26.95%)\n",
      "\n",
      "EPOCH: 1\n"
     ]
    },
    {
     "name": "stderr",
     "output_type": "stream",
     "text": [
      "Loss=1.684287428855896 Batch_id=390 Accuracy=33.19: 100%|██████████| 391/391 [01:02<00:00,  6.29it/s] \n"
     ]
    },
    {
     "name": "stdout",
     "output_type": "stream",
     "text": [
      "\n",
      "Test set: Average loss: 1.7177, Accuracy: 3659/10000 (36.59%)\n",
      "\n",
      "EPOCH: 2\n"
     ]
    },
    {
     "name": "stderr",
     "output_type": "stream",
     "text": [
      "Loss=1.6009823083877563 Batch_id=390 Accuracy=37.73: 100%|██████████| 391/391 [01:03<00:00,  6.19it/s]\n"
     ]
    },
    {
     "name": "stdout",
     "output_type": "stream",
     "text": [
      "\n",
      "Test set: Average loss: 1.6165, Accuracy: 4100/10000 (41.00%)\n",
      "\n",
      "EPOCH: 3\n"
     ]
    },
    {
     "name": "stderr",
     "output_type": "stream",
     "text": [
      "Loss=1.548492670059204 Batch_id=390 Accuracy=41.39: 100%|██████████| 391/391 [01:02<00:00,  6.30it/s] \n"
     ]
    },
    {
     "name": "stdout",
     "output_type": "stream",
     "text": [
      "\n",
      "Test set: Average loss: 1.7010, Accuracy: 3747/10000 (37.47%)\n",
      "\n",
      "EPOCH: 4\n"
     ]
    },
    {
     "name": "stderr",
     "output_type": "stream",
     "text": [
      "Loss=1.5278456211090088 Batch_id=390 Accuracy=44.30: 100%|██████████| 391/391 [01:02<00:00,  6.29it/s]\n"
     ]
    },
    {
     "name": "stdout",
     "output_type": "stream",
     "text": [
      "\n",
      "Test set: Average loss: 1.6428, Accuracy: 4032/10000 (40.32%)\n",
      "\n",
      "EPOCH: 5\n"
     ]
    },
    {
     "name": "stderr",
     "output_type": "stream",
     "text": [
      "Loss=1.4774011373519897 Batch_id=390 Accuracy=47.21: 100%|██████████| 391/391 [01:01<00:00,  6.32it/s]\n"
     ]
    },
    {
     "name": "stdout",
     "output_type": "stream",
     "text": [
      "\n",
      "Test set: Average loss: 1.3620, Accuracy: 5090/10000 (50.90%)\n",
      "\n",
      "EPOCH: 6\n"
     ]
    },
    {
     "name": "stderr",
     "output_type": "stream",
     "text": [
      "Loss=1.4113242626190186 Batch_id=390 Accuracy=49.29: 100%|██████████| 391/391 [01:02<00:00,  6.28it/s]\n"
     ]
    },
    {
     "name": "stdout",
     "output_type": "stream",
     "text": [
      "\n",
      "Test set: Average loss: 1.3137, Accuracy: 5283/10000 (52.83%)\n",
      "\n",
      "EPOCH: 7\n"
     ]
    },
    {
     "name": "stderr",
     "output_type": "stream",
     "text": [
      "Loss=1.2192217111587524 Batch_id=390 Accuracy=51.36: 100%|██████████| 391/391 [01:02<00:00,  6.28it/s]\n"
     ]
    },
    {
     "name": "stdout",
     "output_type": "stream",
     "text": [
      "\n",
      "Test set: Average loss: 1.3294, Accuracy: 5333/10000 (53.33%)\n",
      "\n",
      "EPOCH: 8\n"
     ]
    },
    {
     "name": "stderr",
     "output_type": "stream",
     "text": [
      "Loss=1.1528352499008179 Batch_id=390 Accuracy=52.60: 100%|██████████| 391/391 [01:02<00:00,  6.29it/s]\n"
     ]
    },
    {
     "name": "stdout",
     "output_type": "stream",
     "text": [
      "\n",
      "Test set: Average loss: 1.3208, Accuracy: 5290/10000 (52.90%)\n",
      "\n",
      "EPOCH: 9\n"
     ]
    },
    {
     "name": "stderr",
     "output_type": "stream",
     "text": [
      "Loss=1.4773941040039062 Batch_id=390 Accuracy=54.29: 100%|██████████| 391/391 [01:02<00:00,  6.26it/s]\n"
     ]
    },
    {
     "name": "stdout",
     "output_type": "stream",
     "text": [
      "\n",
      "Test set: Average loss: 1.2911, Accuracy: 5326/10000 (53.26%)\n",
      "\n",
      "EPOCH: 10\n"
     ]
    },
    {
     "name": "stderr",
     "output_type": "stream",
     "text": [
      "Loss=1.2769286632537842 Batch_id=390 Accuracy=55.33: 100%|██████████| 391/391 [01:02<00:00,  6.29it/s]\n"
     ]
    },
    {
     "name": "stdout",
     "output_type": "stream",
     "text": [
      "\n",
      "Test set: Average loss: 1.1794, Accuracy: 5800/10000 (58.00%)\n",
      "\n",
      "EPOCH: 11\n"
     ]
    },
    {
     "name": "stderr",
     "output_type": "stream",
     "text": [
      "Loss=1.4899845123291016 Batch_id=390 Accuracy=56.68: 100%|██████████| 391/391 [01:02<00:00,  6.26it/s]\n"
     ]
    },
    {
     "name": "stdout",
     "output_type": "stream",
     "text": [
      "\n",
      "Test set: Average loss: 1.1302, Accuracy: 6049/10000 (60.49%)\n",
      "\n",
      "EPOCH: 12\n"
     ]
    },
    {
     "name": "stderr",
     "output_type": "stream",
     "text": [
      "Loss=1.2897872924804688 Batch_id=390 Accuracy=57.24: 100%|██████████| 391/391 [01:02<00:00,  6.28it/s]\n"
     ]
    },
    {
     "name": "stdout",
     "output_type": "stream",
     "text": [
      "\n",
      "Test set: Average loss: 1.0865, Accuracy: 6172/10000 (61.72%)\n",
      "\n",
      "EPOCH: 13\n"
     ]
    },
    {
     "name": "stderr",
     "output_type": "stream",
     "text": [
      "Loss=1.267026662826538 Batch_id=390 Accuracy=58.86: 100%|██████████| 391/391 [01:02<00:00,  6.28it/s] \n"
     ]
    },
    {
     "name": "stdout",
     "output_type": "stream",
     "text": [
      "\n",
      "Test set: Average loss: 1.0183, Accuracy: 6364/10000 (63.64%)\n",
      "\n",
      "EPOCH: 14\n"
     ]
    },
    {
     "name": "stderr",
     "output_type": "stream",
     "text": [
      "Loss=1.2570091485977173 Batch_id=390 Accuracy=58.83: 100%|██████████| 391/391 [01:02<00:00,  6.28it/s]\n"
     ]
    },
    {
     "name": "stdout",
     "output_type": "stream",
     "text": [
      "\n",
      "Test set: Average loss: 1.1969, Accuracy: 5851/10000 (58.51%)\n",
      "\n",
      "EPOCH: 15\n"
     ]
    },
    {
     "name": "stderr",
     "output_type": "stream",
     "text": [
      "Loss=0.9090612530708313 Batch_id=390 Accuracy=59.90: 100%|██████████| 391/391 [01:02<00:00,  6.30it/s]\n"
     ]
    },
    {
     "name": "stdout",
     "output_type": "stream",
     "text": [
      "\n",
      "Test set: Average loss: 1.0668, Accuracy: 6267/10000 (62.67%)\n",
      "\n",
      "EPOCH: 16\n"
     ]
    },
    {
     "name": "stderr",
     "output_type": "stream",
     "text": [
      "Loss=1.0845106840133667 Batch_id=390 Accuracy=60.48: 100%|██████████| 391/391 [01:02<00:00,  6.29it/s]\n"
     ]
    },
    {
     "name": "stdout",
     "output_type": "stream",
     "text": [
      "\n",
      "Test set: Average loss: 1.0140, Accuracy: 6456/10000 (64.56%)\n",
      "\n",
      "EPOCH: 17\n"
     ]
    },
    {
     "name": "stderr",
     "output_type": "stream",
     "text": [
      "Loss=1.0010502338409424 Batch_id=390 Accuracy=60.94: 100%|██████████| 391/391 [01:02<00:00,  6.27it/s]\n"
     ]
    },
    {
     "name": "stdout",
     "output_type": "stream",
     "text": [
      "\n",
      "Test set: Average loss: 0.9872, Accuracy: 6502/10000 (65.02%)\n",
      "\n",
      "EPOCH: 18\n"
     ]
    },
    {
     "name": "stderr",
     "output_type": "stream",
     "text": [
      "Loss=0.9667066335678101 Batch_id=390 Accuracy=61.76: 100%|██████████| 391/391 [01:02<00:00,  6.27it/s]\n"
     ]
    },
    {
     "name": "stdout",
     "output_type": "stream",
     "text": [
      "\n",
      "Test set: Average loss: 1.0139, Accuracy: 6457/10000 (64.57%)\n",
      "\n",
      "EPOCH: 19\n"
     ]
    },
    {
     "name": "stderr",
     "output_type": "stream",
     "text": [
      "Loss=1.1505377292633057 Batch_id=390 Accuracy=62.72: 100%|██████████| 391/391 [01:02<00:00,  6.29it/s]\n"
     ]
    },
    {
     "name": "stdout",
     "output_type": "stream",
     "text": [
      "\n",
      "Test set: Average loss: 0.9274, Accuracy: 6714/10000 (67.14%)\n",
      "\n",
      "EPOCH: 20\n"
     ]
    },
    {
     "name": "stderr",
     "output_type": "stream",
     "text": [
      "Loss=1.1058599948883057 Batch_id=390 Accuracy=62.49: 100%|██████████| 391/391 [01:02<00:00,  6.26it/s]\n"
     ]
    },
    {
     "name": "stdout",
     "output_type": "stream",
     "text": [
      "\n",
      "Test set: Average loss: 0.9324, Accuracy: 6656/10000 (66.56%)\n",
      "\n"
     ]
    }
   ],
   "source": [
    "from torch.optim.lr_scheduler import StepLR\n",
    "\n",
    "model =  Net().to(device)\n",
    "optimizer = optim.SGD(model.parameters(), lr=0.01, momentum=0.9)\n",
    "# scheduler = StepLR(optimizer, step_size=6, gamma=0.1)\n",
    "\n",
    "\n",
    "EPOCHS = 21\n",
    "for epoch in range(EPOCHS):\n",
    "    print(\"EPOCH:\", epoch)\n",
    "    train(model, device, train_loader, optimizer, epoch)\n",
    "    # scheduler.step()\n",
    "    test(model, device, test_loader)"
   ]
  },
  {
   "cell_type": "code",
   "execution_count": 10,
   "id": "0d6f6fa4-b55c-41d4-b7b1-b74bea412487",
   "metadata": {},
   "outputs": [
    {
     "data": {
      "image/png": "[encoded data removed]",
      "text/plain": [
       "<Figure size 1500x1000 with 15 Axes>"
      ]
     },
     "metadata": {},
     "output_type": "display_data"
    }
   ],
   "source": [
    "# Define function to get misclassified images\n",
    "def get_misclassified_images(model, test_loader, device):\n",
    "    misclassified_images = []\n",
    "    model.eval()\n",
    "    with torch.no_grad():\n",
    "        for data, target in test_loader:\n",
    "            data, target = data.to(device), target.to(device)\n",
    "            output = model(data)\n",
    "            pred = output.argmax(dim=1, keepdim=True)\n",
    "            incorrect_pred = pred.squeeze() != target\n",
    "            misclassified_images.extend([(img, pred, target) for img, pred, target in zip(data[incorrect_pred], pred[incorrect_pred], target[incorrect_pred])])\n",
    "            if len(misclassified_images) >= 10:\n",
    "                break\n",
    "    return misclassified_images\n",
    "\n",
    "# Get misclassified images\n",
    "misclassified_images = get_misclassified_images(model, test_loader, device)\n",
    "\n",
    "# Display misclassified images\n",
    "fig, axs = plt.subplots(3, 5, figsize=(15, 10))\n",
    "\n",
    "for i, (img, pred, target) in enumerate(misclassified_images):\n",
    "    if i < 15:  # Ensure we don't exceed the number of subplots\n",
    "        row = i // 5\n",
    "        col = i % 5\n",
    "\n",
    "        img = img.cpu().numpy().transpose((1, 2, 0))  # Convert to numpy and transpose dimensions\n",
    "        mean = np.array([0.4914, 0.4822, 0.4465])\n",
    "        std = np.array([0.2470, 0.2434, 0.2615])\n",
    "        img = std * img + mean  # Unnormalize\n",
    "        img = np.clip(img, 0, 1)  # Clip to [0, 1]\n",
    "        axs[row, col].imshow(img)\n",
    "        axs[row, col].set_title(f'Predicted: {pred.item()} / Actual: {target.item()}')\n",
    "        axs[row, col].axis('off')\n",
    "\n",
    "plt.tight_layout()\n",
    "plt.show()"
   ]
  },
  {
   "cell_type": "markdown",
   "id": "2a214580-29cf-4161-8544-02d0ebdd0e29",
   "metadata": {},
   "source": [
    "# Target"
   ]
  },
  {
   "cell_type": "raw",
   "id": "69523004-e6ff-4134-9849-b9c4bcca1cc8",
   "metadata": {},
   "source": [
    "1. To make the Network C1 C2 c3 P1 C4 C5 C6 c7 P2 C8 C9 C10 GAP c11\n",
    "\n",
    "2. Keep the parameter count less than 50000\n",
    "\n",
    "3. Max Epochs used is 20\n",
    "\n",
    "4. To achieve 70% test accuracy"
   ]
  },
  {
   "cell_type": "markdown",
   "id": "2f7fbbc9-bd40-444a-a8f6-23436c8fa5f0",
   "metadata": {},
   "source": [
    "# Results"
   ]
  },
  {
   "cell_type": "raw",
   "id": "e90344ee-82af-4290-a261-c908ec0edf28",
   "metadata": {},
   "source": [
    "1. We have used Layer Normalization, so the parameter count went upto 236,448\n",
    "\n",
    "2. The highest train accuracy we achieve is 62.72%\n",
    "\n",
    "3. The highest test accuracy we achieve is 67.14%"
   ]
  },
  {
   "cell_type": "markdown",
   "id": "1700a82e-86ed-4397-91e7-81c9f6226a04",
   "metadata": {},
   "source": [
    "# Analysis"
   ]
  },
  {
   "cell_type": "raw",
   "id": "99ffcca7-0481-493c-b493-a3e0eaca8c84",
   "metadata": {},
   "source": [
    "1. We failed to achieve parameter count of less then 50k for layer normalization\n",
    "\n",
    "2. As we can see that our test accuracy is higher then train accuracy so it is underfitting\n",
    "\n",
    "3. We even fail to achieve 70% test accuracy as our best test accuracy was 67.14%"
   ]
  },
  {
   "cell_type": "code",
   "execution_count": null,
   "id": "620d94bc-d290-4148-abb5-e69df1b5daa9",
   "metadata": {},
   "outputs": [],
   "source": []
  }
 ],
 "metadata": {
  "kernelspec": {
   "display_name": "Python 3 (ipykernel)",
   "language": "python",
   "name": "python3"
  },
  "language_info": {
   "codemirror_mode": {
    "name": "ipython",
    "version": 3
   },
   "file_extension": ".py",
   "mimetype": "text/x-python",
   "name": "python",
   "nbconvert_exporter": "python",
   "pygments_lexer": "ipython3",
   "version": "3.11.7"
  }
 },
 "nbformat": 4,
 "nbformat_minor": 5
}
