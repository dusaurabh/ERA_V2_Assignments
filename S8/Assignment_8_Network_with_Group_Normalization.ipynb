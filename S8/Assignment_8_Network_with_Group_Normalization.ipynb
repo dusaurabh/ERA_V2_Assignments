{
 "cells": [
  {
   "cell_type": "code",
   "execution_count": 1,
   "id": "4e9ef89f-f06e-45ab-9691-e47c7911c867",
   "metadata": {},
   "outputs": [],
   "source": [
    "from __future__ import print_function\n",
    "import torch\n",
    "import torch.nn as nn\n",
    "import torch.nn.functional as F\n",
    "import torch.optim as optim\n",
    "from torchvision import datasets, transforms"
   ]
  },
  {
   "cell_type": "code",
   "execution_count": 2,
   "id": "0ed4c9a6-739e-4e0f-9c09-eb1df0ff55f2",
   "metadata": {},
   "outputs": [],
   "source": [
    "# Train Phase transformations\n",
    "train_transforms = transforms.Compose([\n",
    "                                      #  transforms.Resize((28, 28)),\n",
    "                                      #  transforms.ColorJitter(brightness=0.10, contrast=0.1, saturation=0.10, hue=0.1),\n",
    "                                       transforms.RandomCrop(32, padding=4, padding_mode='reflect'),\n",
    "                                       transforms.RandomHorizontalFlip(),\n",
    "                                       transforms.RandomRotation(15),\n",
    "                                       transforms.ToTensor(),\n",
    "                                       transforms.Normalize((0.4914, 0.4822, 0.4465), (0.2470, 0.2434, 0.2615)) # The mean and std have to be sequences (e.g., tuples), therefore you should add a comma after the values. \n",
    "                                       # Note the difference between (0.1307) and (0.1307,)\n",
    "                                       ])\n",
    "\n",
    "# Test Phase transformations\n",
    "test_transforms = transforms.Compose([\n",
    "                                      #  transforms.Resize((28, 28)),\n",
    "                                      #  transforms.ColorJitter(brightness=0.10, contrast=0.1, saturation=0.10, hue=0.1),\n",
    "                                       transforms.ToTensor(),\n",
    "                                       transforms.Normalize((0.4914, 0.4822, 0.4465), (0.2470, 0.2434, 0.2615))\n",
    "                                       ])\n"
   ]
  },
  {
   "cell_type": "code",
   "execution_count": 3,
   "id": "2e7be223-6e6d-4a1b-b29e-fb9f1972364f",
   "metadata": {},
   "outputs": [
    {
     "name": "stdout",
     "output_type": "stream",
     "text": [
      "Files already downloaded and verified\n",
      "Files already downloaded and verified\n"
     ]
    }
   ],
   "source": [
    "train = datasets.CIFAR10('./data', train=True, download=True, transform=train_transforms)\n",
    "test = datasets.CIFAR10('./data', train=False, download=True, transform=test_transforms)"
   ]
  },
  {
   "cell_type": "code",
   "execution_count": 4,
   "id": "7215fad0-c49a-4ad9-b7df-195873ff435c",
   "metadata": {},
   "outputs": [
    {
     "name": "stdout",
     "output_type": "stream",
     "text": [
      "CUDA Available? True\n"
     ]
    }
   ],
   "source": [
    "SEED = 1\n",
    "\n",
    "# CUDA?\n",
    "cuda = torch.cuda.is_available()\n",
    "print(\"CUDA Available?\", cuda)\n",
    "\n",
    "# For reproducibility\n",
    "torch.manual_seed(SEED)\n",
    "\n",
    "if cuda:\n",
    "    torch.cuda.manual_seed(SEED)\n",
    "\n",
    "# dataloader arguments - something you'll fetch these from cmdprmt\n",
    "dataloader_args = dict(shuffle=True, batch_size=128, num_workers=4, pin_memory=True) if cuda else dict(shuffle=True, batch_size=64)\n",
    "\n",
    "# train dataloader\n",
    "train_loader = torch.utils.data.DataLoader(train, **dataloader_args)\n",
    "\n",
    "# test dataloader\n",
    "test_loader = torch.utils.data.DataLoader(test, **dataloader_args)"
   ]
  },
  {
   "cell_type": "code",
   "execution_count": 5,
   "id": "e89476b9-cc2b-4a9b-8c51-d2d52693b655",
   "metadata": {},
   "outputs": [
    {
     "name": "stderr",
     "output_type": "stream",
     "text": [
      "Clipping input data to the valid range for imshow with RGB data ([0..1] for floats or [0..255] for integers).\n"
     ]
    },
    {
     "data": {
      "image/png": "[encoded data removed]",
      "text/plain": [
       "<Figure size 640x480 with 1 Axes>"
      ]
     },
     "metadata": {},
     "output_type": "display_data"
    },
    {
     "name": "stdout",
     "output_type": "stream",
     "text": [
      "ship  bird  cat   dog  \n"
     ]
    }
   ],
   "source": [
    "import matplotlib.pyplot as plt\n",
    "import numpy as np\n",
    "\n",
    "# functions to show an image\n",
    "\n",
    "\n",
    "def imshow(img):\n",
    "    img = img / 2 + 0.5     # unnormalize\n",
    "    npimg = img.numpy()\n",
    "    plt.imshow(np.transpose(npimg, (1, 2, 0)))\n",
    "    plt.show()\n",
    "\n",
    "\n",
    "# get some random training images\n",
    "dataiter = iter(train_loader)\n",
    "images, labels = next(dataiter)\n",
    "classes = ('plane', 'car', 'bird', 'cat',\n",
    "           'deer', 'dog', 'frog', 'horse', 'ship', 'truck')\n",
    "\n",
    "import torchvision\n",
    "# show images\n",
    "imshow(torchvision.utils.make_grid(images[:4]))\n",
    "# print labels\n",
    "print(' '.join(f'{classes[labels[j]]:5s}' for j in range(4)))"
   ]
  },
  {
   "cell_type": "code",
   "execution_count": 46,
   "id": "3833f329-f10b-4b2b-b0db-4b4903d5506f",
   "metadata": {},
   "outputs": [],
   "source": [
    "dropout_value = 0.1\n",
    "class Net(nn.Module):\n",
    "    def __init__(self):\n",
    "        super(Net, self).__init__()\n",
    "        # Input Block\n",
    "        self.convblock1 = nn.Sequential(\n",
    "            nn.Conv2d(in_channels=3, out_channels=32, kernel_size=(7, 7), padding=3, bias=False),\n",
    "            nn.GroupNorm(num_groups=4, num_channels=32),\n",
    "            nn.ReLU(),\n",
    "            nn.Dropout(dropout_value)\n",
    "        )\n",
    "\n",
    "        # CONVOLUTION BLOCK 1\n",
    "        self.convblock2 = nn.Sequential(\n",
    "            nn.Conv2d(in_channels=32, out_channels=32, kernel_size=(3, 3), padding=1, bias=False),\n",
    "            nn.GroupNorm(num_groups=4, num_channels=32),\n",
    "            nn.ReLU(),\n",
    "            nn.Dropout(dropout_value)\n",
    "        ) # output_size = 24\n",
    "\n",
    "\n",
    "        # TRANSITION BLOCK 1\n",
    "        self.convblock3 = nn.Sequential(\n",
    "            nn.Conv2d(in_channels=32, out_channels=16, kernel_size=(1, 1), padding=0, bias=False),\n",
    "        ) \n",
    "        self.pool1 = nn.MaxPool2d(2, 2) # output_size = 16/6/2\n",
    "\n",
    "        self.convblock4 = nn.Sequential(\n",
    "            nn.Conv2d(in_channels=16, out_channels=32, kernel_size=(3,3), padding = 1, bias=False),\n",
    "            nn.GroupNorm(num_groups=4, num_channels=32),\n",
    "            nn.ReLU(),\n",
    "            nn.Dropout(dropout_value)\n",
    "        )\n",
    "\n",
    "        self.convblock5 = nn.Sequential(\n",
    "            nn.Conv2d(in_channels=32, out_channels=16, kernel_size=(3,3), padding = 1, bias=False),\n",
    "            nn.GroupNorm(num_groups=2, num_channels=16),\n",
    "            nn.ReLU(),\n",
    "            nn.Dropout(dropout_value)\n",
    "        )\n",
    "\n",
    "        self.convblock6 = nn.Sequential(\n",
    "            nn.Conv2d(in_channels=16, out_channels=32, kernel_size=(3,3), padding = 1, bias=False),\n",
    "            nn.GroupNorm(num_groups=4, num_channels=32),\n",
    "            nn.ReLU(),\n",
    "            nn.Dropout(dropout_value)\n",
    "        )\n",
    "\n",
    "        # TRANSITION BLOCK 2\n",
    "        self.convblock7 = nn.Sequential(\n",
    "            nn.Conv2d(in_channels=32, out_channels=16, kernel_size=(1, 1), padding=0, bias=False),\n",
    "        ) \n",
    "        self.pool2 = nn.MaxPool2d(2, 2)\n",
    "\n",
    "        self.convblock8 = nn.Sequential(\n",
    "            nn.Conv2d(in_channels=16, out_channels=32, kernel_size=(3,3), padding = 1, bias=False),\n",
    "            nn.GroupNorm(num_groups=4, num_channels=32),\n",
    "            nn.ReLU(),\n",
    "            nn.Dropout(dropout_value)\n",
    "        )\n",
    "\n",
    "        self.convblock9 = nn.Sequential(\n",
    "            nn.Conv2d(in_channels=32, out_channels=32, kernel_size=(3,3), padding = 0, bias=False),\n",
    "            nn.GroupNorm(num_groups=4, num_channels=32),\n",
    "            nn.ReLU(),\n",
    "            nn.Dropout(dropout_value)\n",
    "        )\n",
    "\n",
    "        self.convblock10 = nn.Sequential(\n",
    "            nn.Conv2d(in_channels=32, out_channels=32, kernel_size=(3,3), padding = 0, bias=False),\n",
    "            nn.GroupNorm(num_groups=4, num_channels=32),\n",
    "            nn.ReLU(),\n",
    "            nn.Dropout(dropout_value)\n",
    "        )\n",
    "\n",
    "        # OUTPUT BLOCK\n",
    "        self.gap = nn.Sequential(\n",
    "            nn.AvgPool2d(kernel_size=4)\n",
    "        ) \n",
    "\n",
    "        self.convblock11 = nn.Sequential(\n",
    "            nn.Conv2d(in_channels=32, out_channels=10, kernel_size=(1, 1), padding=0, bias=False),\n",
    "        ) \n",
    "        \n",
    "        self.dropout = nn.Dropout(dropout_value)\n",
    "\n",
    "    def forward(self, x):\n",
    "        x = self.convblock1(x)\n",
    "        x = self.convblock2(x)\n",
    "        x = self.convblock3(x)\n",
    "        x = self.dropout(x)\n",
    "        x = self.pool1(x)\n",
    "        x = self.convblock4(x)\n",
    "        x = self.convblock5(x)\n",
    "        x = self.convblock6(x)\n",
    "        x = self.convblock7(x)\n",
    "        x = self.dropout(x)\n",
    "        x = self.pool2(x)\n",
    "        x = self.convblock8(x)\n",
    "        x = self.convblock9(x)\n",
    "        x = self.convblock10(x)\n",
    "        x = self.gap(x)        \n",
    "        x = self.convblock11(x)\n",
    "        x = x.view(-1, 10)\n",
    "        return F.log_softmax(x, dim=-1)"
   ]
  },
  {
   "cell_type": "code",
   "execution_count": 47,
   "id": "c7455ef4-47d7-4919-ad0b-c080e499f322",
   "metadata": {},
   "outputs": [
    {
     "name": "stdout",
     "output_type": "stream",
     "text": [
      "cuda\n",
      "----------------------------------------------------------------\n",
      "        Layer (type)               Output Shape         Param #\n",
      "================================================================\n",
      "            Conv2d-1           [-1, 32, 32, 32]           4,704\n",
      "         GroupNorm-2           [-1, 32, 32, 32]              64\n",
      "              ReLU-3           [-1, 32, 32, 32]               0\n",
      "           Dropout-4           [-1, 32, 32, 32]               0\n",
      "            Conv2d-5           [-1, 32, 32, 32]           9,216\n",
      "         GroupNorm-6           [-1, 32, 32, 32]              64\n",
      "              ReLU-7           [-1, 32, 32, 32]               0\n",
      "           Dropout-8           [-1, 32, 32, 32]               0\n",
      "            Conv2d-9           [-1, 16, 32, 32]             512\n",
      "          Dropout-10           [-1, 16, 32, 32]               0\n",
      "        MaxPool2d-11           [-1, 16, 16, 16]               0\n",
      "           Conv2d-12           [-1, 32, 16, 16]           4,608\n",
      "        GroupNorm-13           [-1, 32, 16, 16]              64\n",
      "             ReLU-14           [-1, 32, 16, 16]               0\n",
      "          Dropout-15           [-1, 32, 16, 16]               0\n",
      "           Conv2d-16           [-1, 16, 16, 16]           4,608\n",
      "        GroupNorm-17           [-1, 16, 16, 16]              32\n",
      "             ReLU-18           [-1, 16, 16, 16]               0\n",
      "          Dropout-19           [-1, 16, 16, 16]               0\n",
      "           Conv2d-20           [-1, 32, 16, 16]           4,608\n",
      "        GroupNorm-21           [-1, 32, 16, 16]              64\n",
      "             ReLU-22           [-1, 32, 16, 16]               0\n",
      "          Dropout-23           [-1, 32, 16, 16]               0\n",
      "           Conv2d-24           [-1, 16, 16, 16]             512\n",
      "          Dropout-25           [-1, 16, 16, 16]               0\n",
      "        MaxPool2d-26             [-1, 16, 8, 8]               0\n",
      "           Conv2d-27             [-1, 32, 8, 8]           4,608\n",
      "        GroupNorm-28             [-1, 32, 8, 8]              64\n",
      "             ReLU-29             [-1, 32, 8, 8]               0\n",
      "          Dropout-30             [-1, 32, 8, 8]               0\n",
      "           Conv2d-31             [-1, 32, 6, 6]           9,216\n",
      "        GroupNorm-32             [-1, 32, 6, 6]              64\n",
      "             ReLU-33             [-1, 32, 6, 6]               0\n",
      "          Dropout-34             [-1, 32, 6, 6]               0\n",
      "           Conv2d-35             [-1, 32, 4, 4]           9,216\n",
      "        GroupNorm-36             [-1, 32, 4, 4]              64\n",
      "             ReLU-37             [-1, 32, 4, 4]               0\n",
      "          Dropout-38             [-1, 32, 4, 4]               0\n",
      "        AvgPool2d-39             [-1, 32, 1, 1]               0\n",
      "           Conv2d-40             [-1, 10, 1, 1]             320\n",
      "================================================================\n",
      "Total params: 52,608\n",
      "Trainable params: 52,608\n",
      "Non-trainable params: 0\n",
      "----------------------------------------------------------------\n",
      "Input size (MB): 0.01\n",
      "Forward/backward pass size (MB): 3.09\n",
      "Params size (MB): 0.20\n",
      "Estimated Total Size (MB): 3.30\n",
      "----------------------------------------------------------------\n"
     ]
    }
   ],
   "source": [
    "from torchsummary import summary\n",
    "use_cuda = torch.cuda.is_available()\n",
    "device = torch.device(\"cuda\" if use_cuda else \"cpu\")\n",
    "print(device)\n",
    "model = Net().to(device)\n",
    "summary(model, input_size=(3, 32, 32))"
   ]
  },
  {
   "cell_type": "code",
   "execution_count": 48,
   "id": "d7422add-59e0-4b48-82c4-1ff0762d1742",
   "metadata": {},
   "outputs": [],
   "source": [
    "from tqdm import tqdm\n",
    "\n",
    "train_losses = []\n",
    "test_losses = []\n",
    "train_acc = []\n",
    "test_acc = []\n",
    "\n",
    "def train(model, device, train_loader, optimizer, epoch):\n",
    "  model.train()\n",
    "  pbar = tqdm(train_loader)\n",
    "  correct = 0\n",
    "  processed = 0\n",
    "  for batch_idx, (data, target) in enumerate(pbar):\n",
    "    # get samples\n",
    "    data, target = data.to(device), target.to(device)\n",
    "\n",
    "    # Init\n",
    "    optimizer.zero_grad()\n",
    "    # In PyTorch, we need to set the gradients to zero before starting to do backpropragation because PyTorch accumulates the gradients on subsequent backward passes. \n",
    "    # Because of this, when you start your training loop, ideally you should zero out the gradients so that you do the parameter update correctly.\n",
    "\n",
    "    # Predict\n",
    "    y_pred = model(data)\n",
    "\n",
    "    # Calculate loss\n",
    "    loss = F.nll_loss(y_pred, target)\n",
    "    train_losses.append(loss)\n",
    "\n",
    "    # Backpropagation\n",
    "    loss.backward()\n",
    "    optimizer.step()\n",
    "\n",
    "    # Update pbar-tqdm\n",
    "    \n",
    "    pred = y_pred.argmax(dim=1, keepdim=True)  # get the index of the max log-probability\n",
    "    correct += pred.eq(target.view_as(pred)).sum().item()\n",
    "    processed += len(data)\n",
    "\n",
    "    pbar.set_description(desc= f'Loss={loss.item()} Batch_id={batch_idx} Accuracy={100*correct/processed:0.2f}')\n",
    "    train_acc.append(100*correct/processed)\n",
    "\n",
    "def test(model, device, test_loader):\n",
    "    model.eval()\n",
    "    test_loss = 0\n",
    "    correct = 0\n",
    "    with torch.no_grad():\n",
    "        for data, target in test_loader:\n",
    "            data, target = data.to(device), target.to(device)\n",
    "            output = model(data)\n",
    "            test_loss += F.nll_loss(output, target, reduction='sum').item()  # sum up batch loss\n",
    "            pred = output.argmax(dim=1, keepdim=True)  # get the index of the max log-probability\n",
    "            correct += pred.eq(target.view_as(pred)).sum().item()\n",
    "\n",
    "    test_loss /= len(test_loader.dataset)\n",
    "    test_losses.append(test_loss)\n",
    "\n",
    "    print('\\nTest set: Average loss: {:.4f}, Accuracy: {}/{} ({:.2f}%)\\n'.format(\n",
    "        test_loss, correct, len(test_loader.dataset),\n",
    "        100. * correct / len(test_loader.dataset)))\n",
    "    \n",
    "    test_acc.append(100. * correct / len(test_loader.dataset))"
   ]
  },
  {
   "cell_type": "code",
   "execution_count": 49,
   "id": "e143425d-4553-4195-8cbc-d54664b18b18",
   "metadata": {},
   "outputs": [
    {
     "name": "stdout",
     "output_type": "stream",
     "text": [
      "EPOCH: 0\n"
     ]
    },
    {
     "name": "stderr",
     "output_type": "stream",
     "text": [
      "Loss=1.8168070316314697 Batch_id=390 Accuracy=24.49: 100%|██████████| 391/391 [01:01<00:00,  6.32it/s]\n"
     ]
    },
    {
     "name": "stdout",
     "output_type": "stream",
     "text": [
      "\n",
      "Test set: Average loss: 1.7520, Accuracy: 3393/10000 (33.93%)\n",
      "\n",
      "EPOCH: 1\n"
     ]
    },
    {
     "name": "stderr",
     "output_type": "stream",
     "text": [
      "Loss=1.5974829196929932 Batch_id=390 Accuracy=36.95: 100%|██████████| 391/391 [01:01<00:00,  6.33it/s]\n"
     ]
    },
    {
     "name": "stdout",
     "output_type": "stream",
     "text": [
      "\n",
      "Test set: Average loss: 1.5540, Accuracy: 4328/10000 (43.28%)\n",
      "\n",
      "EPOCH: 2\n"
     ]
    },
    {
     "name": "stderr",
     "output_type": "stream",
     "text": [
      "Loss=1.7101666927337646 Batch_id=390 Accuracy=42.02: 100%|██████████| 391/391 [01:02<00:00,  6.30it/s]\n"
     ]
    },
    {
     "name": "stdout",
     "output_type": "stream",
     "text": [
      "\n",
      "Test set: Average loss: 1.4229, Accuracy: 4863/10000 (48.63%)\n",
      "\n",
      "EPOCH: 3\n"
     ]
    },
    {
     "name": "stderr",
     "output_type": "stream",
     "text": [
      "Loss=1.5423022508621216 Batch_id=390 Accuracy=45.43: 100%|██████████| 391/391 [01:01<00:00,  6.33it/s]\n"
     ]
    },
    {
     "name": "stdout",
     "output_type": "stream",
     "text": [
      "\n",
      "Test set: Average loss: 1.3928, Accuracy: 4921/10000 (49.21%)\n",
      "\n",
      "EPOCH: 4\n"
     ]
    },
    {
     "name": "stderr",
     "output_type": "stream",
     "text": [
      "Loss=1.1707112789154053 Batch_id=390 Accuracy=48.58: 100%|██████████| 391/391 [01:01<00:00,  6.35it/s]\n"
     ]
    },
    {
     "name": "stdout",
     "output_type": "stream",
     "text": [
      "\n",
      "Test set: Average loss: 1.3263, Accuracy: 5070/10000 (50.70%)\n",
      "\n",
      "EPOCH: 5\n"
     ]
    },
    {
     "name": "stderr",
     "output_type": "stream",
     "text": [
      "Loss=1.356349229812622 Batch_id=390 Accuracy=50.74: 100%|██████████| 391/391 [01:01<00:00,  6.32it/s] \n"
     ]
    },
    {
     "name": "stdout",
     "output_type": "stream",
     "text": [
      "\n",
      "Test set: Average loss: 1.2637, Accuracy: 5491/10000 (54.91%)\n",
      "\n",
      "EPOCH: 6\n"
     ]
    },
    {
     "name": "stderr",
     "output_type": "stream",
     "text": [
      "Loss=1.2588133811950684 Batch_id=390 Accuracy=52.59: 100%|██████████| 391/391 [01:02<00:00,  6.28it/s]\n"
     ]
    },
    {
     "name": "stdout",
     "output_type": "stream",
     "text": [
      "\n",
      "Test set: Average loss: 1.1722, Accuracy: 5788/10000 (57.88%)\n",
      "\n",
      "EPOCH: 7\n"
     ]
    },
    {
     "name": "stderr",
     "output_type": "stream",
     "text": [
      "Loss=1.3893835544586182 Batch_id=390 Accuracy=54.14: 100%|██████████| 391/391 [01:02<00:00,  6.29it/s]\n"
     ]
    },
    {
     "name": "stdout",
     "output_type": "stream",
     "text": [
      "\n",
      "Test set: Average loss: 1.2097, Accuracy: 5696/10000 (56.96%)\n",
      "\n",
      "EPOCH: 8\n"
     ]
    },
    {
     "name": "stderr",
     "output_type": "stream",
     "text": [
      "Loss=0.9878670573234558 Batch_id=390 Accuracy=56.05: 100%|██████████| 391/391 [01:02<00:00,  6.30it/s]\n"
     ]
    },
    {
     "name": "stdout",
     "output_type": "stream",
     "text": [
      "\n",
      "Test set: Average loss: 1.1420, Accuracy: 5903/10000 (59.03%)\n",
      "\n",
      "EPOCH: 9\n"
     ]
    },
    {
     "name": "stderr",
     "output_type": "stream",
     "text": [
      "Loss=1.3284728527069092 Batch_id=390 Accuracy=57.51: 100%|██████████| 391/391 [01:02<00:00,  6.30it/s]\n"
     ]
    },
    {
     "name": "stdout",
     "output_type": "stream",
     "text": [
      "\n",
      "Test set: Average loss: 1.1423, Accuracy: 5996/10000 (59.96%)\n",
      "\n",
      "EPOCH: 10\n"
     ]
    },
    {
     "name": "stderr",
     "output_type": "stream",
     "text": [
      "Loss=1.1298195123672485 Batch_id=390 Accuracy=58.28: 100%|██████████| 391/391 [01:01<00:00,  6.33it/s]\n"
     ]
    },
    {
     "name": "stdout",
     "output_type": "stream",
     "text": [
      "\n",
      "Test set: Average loss: 1.0461, Accuracy: 6284/10000 (62.84%)\n",
      "\n",
      "EPOCH: 11\n"
     ]
    },
    {
     "name": "stderr",
     "output_type": "stream",
     "text": [
      "Loss=1.1020153760910034 Batch_id=390 Accuracy=59.60: 100%|██████████| 391/391 [01:02<00:00,  6.26it/s]\n"
     ]
    },
    {
     "name": "stdout",
     "output_type": "stream",
     "text": [
      "\n",
      "Test set: Average loss: 1.0480, Accuracy: 6276/10000 (62.76%)\n",
      "\n",
      "EPOCH: 12\n"
     ]
    },
    {
     "name": "stderr",
     "output_type": "stream",
     "text": [
      "Loss=1.1031863689422607 Batch_id=390 Accuracy=60.31: 100%|██████████| 391/391 [01:02<00:00,  6.29it/s]\n"
     ]
    },
    {
     "name": "stdout",
     "output_type": "stream",
     "text": [
      "\n",
      "Test set: Average loss: 1.0755, Accuracy: 6090/10000 (60.90%)\n",
      "\n",
      "EPOCH: 13\n"
     ]
    },
    {
     "name": "stderr",
     "output_type": "stream",
     "text": [
      "Loss=1.0827367305755615 Batch_id=390 Accuracy=61.37: 100%|██████████| 391/391 [01:01<00:00,  6.31it/s]\n"
     ]
    },
    {
     "name": "stdout",
     "output_type": "stream",
     "text": [
      "\n",
      "Test set: Average loss: 1.0568, Accuracy: 6214/10000 (62.14%)\n",
      "\n",
      "EPOCH: 14\n"
     ]
    },
    {
     "name": "stderr",
     "output_type": "stream",
     "text": [
      "Loss=1.039304494857788 Batch_id=390 Accuracy=61.75: 100%|██████████| 391/391 [01:03<00:00,  6.20it/s] \n"
     ]
    },
    {
     "name": "stdout",
     "output_type": "stream",
     "text": [
      "\n",
      "Test set: Average loss: 1.0136, Accuracy: 6353/10000 (63.53%)\n",
      "\n",
      "EPOCH: 15\n"
     ]
    },
    {
     "name": "stderr",
     "output_type": "stream",
     "text": [
      "Loss=0.9757360219955444 Batch_id=390 Accuracy=62.54: 100%|██████████| 391/391 [01:01<00:00,  6.31it/s]\n"
     ]
    },
    {
     "name": "stdout",
     "output_type": "stream",
     "text": [
      "\n",
      "Test set: Average loss: 0.9771, Accuracy: 6558/10000 (65.58%)\n",
      "\n",
      "EPOCH: 16\n"
     ]
    },
    {
     "name": "stderr",
     "output_type": "stream",
     "text": [
      "Loss=1.1596219539642334 Batch_id=390 Accuracy=63.49: 100%|██████████| 391/391 [01:01<00:00,  6.35it/s]\n"
     ]
    },
    {
     "name": "stdout",
     "output_type": "stream",
     "text": [
      "\n",
      "Test set: Average loss: 0.9438, Accuracy: 6629/10000 (66.29%)\n",
      "\n",
      "EPOCH: 17\n"
     ]
    },
    {
     "name": "stderr",
     "output_type": "stream",
     "text": [
      "Loss=1.3658783435821533 Batch_id=390 Accuracy=63.53: 100%|██████████| 391/391 [01:02<00:00,  6.28it/s]\n"
     ]
    },
    {
     "name": "stdout",
     "output_type": "stream",
     "text": [
      "\n",
      "Test set: Average loss: 0.9633, Accuracy: 6598/10000 (65.98%)\n",
      "\n",
      "EPOCH: 18\n"
     ]
    },
    {
     "name": "stderr",
     "output_type": "stream",
     "text": [
      "Loss=0.9038194417953491 Batch_id=390 Accuracy=63.89: 100%|██████████| 391/391 [01:02<00:00,  6.30it/s]\n"
     ]
    },
    {
     "name": "stdout",
     "output_type": "stream",
     "text": [
      "\n",
      "Test set: Average loss: 0.9272, Accuracy: 6742/10000 (67.42%)\n",
      "\n",
      "EPOCH: 19\n"
     ]
    },
    {
     "name": "stderr",
     "output_type": "stream",
     "text": [
      "Loss=0.9089853167533875 Batch_id=390 Accuracy=64.18: 100%|██████████| 391/391 [01:02<00:00,  6.26it/s]\n"
     ]
    },
    {
     "name": "stdout",
     "output_type": "stream",
     "text": [
      "\n",
      "Test set: Average loss: 0.9683, Accuracy: 6567/10000 (65.67%)\n",
      "\n",
      "EPOCH: 20\n"
     ]
    },
    {
     "name": "stderr",
     "output_type": "stream",
     "text": [
      "Loss=1.0376213788986206 Batch_id=390 Accuracy=64.96: 100%|██████████| 391/391 [01:02<00:00,  6.28it/s]\n"
     ]
    },
    {
     "name": "stdout",
     "output_type": "stream",
     "text": [
      "\n",
      "Test set: Average loss: 0.9866, Accuracy: 6464/10000 (64.64%)\n",
      "\n"
     ]
    }
   ],
   "source": [
    "from torch.optim.lr_scheduler import StepLR\n",
    "\n",
    "model =  Net().to(device)\n",
    "optimizer = optim.SGD(model.parameters(), lr=0.01, momentum=0.9)\n",
    "# scheduler = StepLR(optimizer, step_size=6, gamma=0.1)\n",
    "\n",
    "\n",
    "EPOCHS = 21\n",
    "for epoch in range(EPOCHS):\n",
    "    print(\"EPOCH:\", epoch)\n",
    "    train(model, device, train_loader, optimizer, epoch)\n",
    "    # scheduler.step()\n",
    "    test(model, device, test_loader)"
   ]
  },
  {
   "cell_type": "code",
   "execution_count": 54,
   "id": "011e1433-bec6-4a9e-bf35-6ec29fd25e27",
   "metadata": {},
   "outputs": [
    {
     "data": {
      "image/png": "[encoded data removed]",
      "text/plain": [
       "<Figure size 1500x1000 with 15 Axes>"
      ]
     },
     "metadata": {},
     "output_type": "display_data"
    }
   ],
   "source": [
    "# Define function to get misclassified images\n",
    "def get_misclassified_images(model, test_loader, device):\n",
    "    misclassified_images = []\n",
    "    model.eval()\n",
    "    with torch.no_grad():\n",
    "        for data, target in test_loader:\n",
    "            data, target = data.to(device), target.to(device)\n",
    "            output = model(data)\n",
    "            pred = output.argmax(dim=1, keepdim=True)\n",
    "            incorrect_pred = pred.squeeze() != target\n",
    "            misclassified_images.extend([(img, pred, target) for img, pred, target in zip(data[incorrect_pred], pred[incorrect_pred], target[incorrect_pred])])\n",
    "            if len(misclassified_images) >= 10:\n",
    "                break\n",
    "    return misclassified_images\n",
    "\n",
    "# Get misclassified images\n",
    "misclassified_images = get_misclassified_images(model, test_loader, device)\n",
    "\n",
    "# Display misclassified images\n",
    "fig, axs = plt.subplots(3, 5, figsize=(15, 10))\n",
    "\n",
    "for i, (img, pred, target) in enumerate(misclassified_images):\n",
    "    if i < 15:  # Ensure we don't exceed the number of subplots\n",
    "        row = i // 5\n",
    "        col = i % 5\n",
    "\n",
    "        img = img.cpu().numpy().transpose((1, 2, 0))  # Convert to numpy and transpose dimensions\n",
    "        mean = np.array([0.4914, 0.4822, 0.4465])\n",
    "        std = np.array([0.2470, 0.2434, 0.2615])\n",
    "        img = std * img + mean  # Unnormalize\n",
    "        img = np.clip(img, 0, 1)  # Clip to [0, 1]\n",
    "        axs[row, col].imshow(img)\n",
    "        axs[row, col].set_title(f'Predicted: {pred.item()} / Actual: {target.item()}')\n",
    "        axs[row, col].axis('off')\n",
    "\n",
    "plt.tight_layout()\n",
    "plt.show()"
   ]
  },
  {
   "cell_type": "markdown",
   "id": "dc30998b-29ce-45ee-9365-714972e49aaa",
   "metadata": {},
   "source": [
    "# Target"
   ]
  },
  {
   "cell_type": "raw",
   "id": "539e54d0-f4aa-45c3-8267-1159945ec393",
   "metadata": {},
   "source": [
    "1. To make the Network C1 C2 c3 P1 C4 C5 C6 c7 P2 C8 C9 C10 GAP c11\n",
    "\n",
    "2. Keep the parameter count less than 50000\n",
    "\n",
    "3. Max Epochs used is 20\n",
    "\n",
    "4. To achieve 70% test accuracy"
   ]
  },
  {
   "cell_type": "markdown",
   "id": "14c9fb01-0988-49bc-b125-1dd328dadf3f",
   "metadata": {},
   "source": [
    "# Results"
   ]
  },
  {
   "cell_type": "raw",
   "id": "c0d52070-6248-432b-988b-9441127b63a7",
   "metadata": {},
   "source": [
    "1. We have used Group Normalization, so the parameter count went upto 52,608\n",
    "\n",
    "2. The highest train accuracy we achieve is 64.96%\n",
    "\n",
    "3. The highest test accuracy we achieve is 67.42%"
   ]
  },
  {
   "cell_type": "markdown",
   "id": "6fd63a31-71e0-4495-8926-621b58fc842e",
   "metadata": {},
   "source": [
    "# Analysis"
   ]
  },
  {
   "cell_type": "raw",
   "id": "d16ce396-0d3a-432b-91a3-c41c7a7073aa",
   "metadata": {},
   "source": [
    "1. We failed to achieve parameter count of less then 50k for group normalization. Our parameter count\n",
    "\n",
    "2. As we can see that our test accuracy is higher then train accuracy so it is underfitting\n",
    "\n",
    "3. We even fail to achieve 70% test accuracy as our best test accuracy was 67.42%"
   ]
  },
  {
   "cell_type": "code",
   "execution_count": null,
   "id": "8ced80d3-db25-4453-b317-ee1fbe79c2ac",
   "metadata": {},
   "outputs": [],
   "source": []
  }
 ],
 "metadata": {
  "kernelspec": {
   "display_name": "Python 3 (ipykernel)",
   "language": "python",
   "name": "python3"
  },
  "language_info": {
   "codemirror_mode": {
    "name": "ipython",
    "version": 3
   },
   "file_extension": ".py",
   "mimetype": "text/x-python",
   "name": "python",
   "nbconvert_exporter": "python",
   "pygments_lexer": "ipython3",
   "version": "3.11.7"
  }
 },
 "nbformat": 4,
 "nbformat_minor": 5
}
