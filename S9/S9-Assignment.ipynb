{
 "cells": [
  {
   "cell_type": "code",
   "execution_count": 2,
   "id": "b3a01c99-304b-4a0d-8cfe-87db6f1b945b",
   "metadata": {},
   "outputs": [],
   "source": [
    "from __future__ import print_function\n",
    "import torch\n",
    "\n",
    "import torch.optim as optim\n",
    "from torchvision import datasets, transforms\n",
    "\n",
    "from PIL import Image\n",
    "import time\n",
    "import cv2\n",
    "import matplotlib.pyplot as plt\n",
    "import numpy as np\n"
   ]
  },
  {
   "cell_type": "code",
   "execution_count": 3,
   "id": "17792eeb-bdb5-4285-8406-c87483d8674a",
   "metadata": {},
   "outputs": [],
   "source": [
    "from utils import train_transforms, test_transforms"
   ]
  },
  {
   "cell_type": "code",
   "execution_count": 4,
   "id": "13f09bcc-ae83-485b-994d-e89c56214c5f",
   "metadata": {},
   "outputs": [],
   "source": [
    "class CIFAR10Dataset(datasets.CIFAR10):\n",
    "    def __init__(self, root, train=True, transform=None, target_transform=None, download=False):\n",
    "        super().__init__(root, train=train, transform=transform, target_transform=target_transform, download=download)\n",
    "\n",
    "    def __getitem__(self, index):\n",
    "        image, label = self.data[index], self.targets[index]\n",
    "        if self.transforms is not None:\n",
    "          transformed = self.transform(image=image)\n",
    "          image = transformed[\"image\"]\n",
    "        return image, label"
   ]
  },
  {
   "cell_type": "code",
   "execution_count": 5,
   "id": "a6a00104-276c-4249-97fb-52b65299250b",
   "metadata": {},
   "outputs": [
    {
     "name": "stdout",
     "output_type": "stream",
     "text": [
      "Files already downloaded and verified\n",
      "Files already downloaded and verified\n"
     ]
    }
   ],
   "source": [
    "train = CIFAR10Dataset(root='./data', train=True, transform=train_transforms, download=True)\n",
    "test = CIFAR10Dataset(root='./data', train=False, transform=test_transforms, download=True)"
   ]
  },
  {
   "cell_type": "code",
   "execution_count": 6,
   "id": "6d86e1ec-f239-4a91-8576-6879016676d1",
   "metadata": {},
   "outputs": [
    {
     "name": "stdout",
     "output_type": "stream",
     "text": [
      "CUDA Available? True\n"
     ]
    }
   ],
   "source": [
    "SEED = 1\n",
    "\n",
    "# CUDA?\n",
    "cuda = torch.cuda.is_available()\n",
    "print(\"CUDA Available?\", cuda)\n",
    "\n",
    "# For reproducibility\n",
    "torch.manual_seed(SEED)\n",
    "\n",
    "if cuda:\n",
    "    torch.cuda.manual_seed(SEED)\n",
    "\n",
    "# dataloader arguments - something you'll fetch these from cmdprmt\n",
    "dataloader_args = dict(shuffle=True, batch_size=512, num_workers=0, pin_memory=True) if cuda else dict(shuffle=True, batch_size=64)\n",
    "\n",
    "# train dataloader\n",
    "train_loader = torch.utils.data.DataLoader(train, **dataloader_args)\n",
    "\n",
    "# test dataloader\n",
    "test_loader = torch.utils.data.DataLoader(test, **dataloader_args)"
   ]
  },
  {
   "cell_type": "code",
   "execution_count": 7,
   "id": "4584cef9-295d-4622-ad7d-2957d5de8958",
   "metadata": {},
   "outputs": [
    {
     "name": "stderr",
     "output_type": "stream",
     "text": [
      "Clipping input data to the valid range for imshow with RGB data ([0..1] for floats or [0..255] for integers).\n"
     ]
    },
    {
     "data": {
      "image/png": "[encoded data removed]",
      "text/plain": [
       "<Figure size 640x480 with 1 Axes>"
      ]
     },
     "metadata": {},
     "output_type": "display_data"
    },
    {
     "name": "stdout",
     "output_type": "stream",
     "text": [
      "ship  bird  cat   dog  \n"
     ]
    }
   ],
   "source": [
    "import matplotlib.pyplot as plt\n",
    "import numpy as np\n",
    "\n",
    "# functions to show an image\n",
    "\n",
    "\n",
    "def imshow(img):\n",
    "    img = img / 2 + 0.5     # unnormalize\n",
    "    npimg = img.numpy()\n",
    "    plt.imshow(np.transpose(npimg, (1, 2, 0)))\n",
    "    plt.show()\n",
    "\n",
    "\n",
    "# get some random training images\n",
    "dataiter = iter(train_loader)\n",
    "images, labels = next(dataiter)\n",
    "classes = ('plane', 'car', 'bird', 'cat',\n",
    "           'deer', 'dog', 'frog', 'horse', 'ship', 'truck')\n",
    "\n",
    "import torchvision\n",
    "# show images\n",
    "imshow(torchvision.utils.make_grid(images[:4]))\n",
    "# print labels\n",
    "print(' '.join(f'{classes[labels[j]]:5s}' for j in range(4)))"
   ]
  },
  {
   "cell_type": "code",
   "execution_count": 8,
   "id": "933419c5-14f6-4420-9130-a446a4123f68",
   "metadata": {},
   "outputs": [],
   "source": [
    "from models import Net"
   ]
  },
  {
   "cell_type": "code",
   "execution_count": 9,
   "id": "baf6ffee-239e-44f4-9037-73671038e376",
   "metadata": {},
   "outputs": [
    {
     "name": "stdout",
     "output_type": "stream",
     "text": [
      "cuda\n",
      "----------------------------------------------------------------\n",
      "        Layer (type)               Output Shape         Param #\n",
      "================================================================\n",
      "            Conv2d-1           [-1, 32, 32, 32]             864\n",
      "       BatchNorm2d-2           [-1, 32, 32, 32]              64\n",
      "              ReLU-3           [-1, 32, 32, 32]               0\n",
      "           Dropout-4           [-1, 32, 32, 32]               0\n",
      "            Conv2d-5           [-1, 64, 32, 32]          18,432\n",
      "       BatchNorm2d-6           [-1, 64, 32, 32]             128\n",
      "              ReLU-7           [-1, 64, 32, 32]               0\n",
      "           Dropout-8           [-1, 64, 32, 32]               0\n",
      "            Conv2d-9           [-1, 32, 16, 16]          18,432\n",
      "          Dropout-10           [-1, 32, 16, 16]               0\n",
      "           Conv2d-11           [-1, 64, 16, 16]          18,432\n",
      "      BatchNorm2d-12           [-1, 64, 16, 16]             128\n",
      "             ReLU-13           [-1, 64, 16, 16]               0\n",
      "          Dropout-14           [-1, 64, 16, 16]               0\n",
      "           Conv2d-15           [-1, 64, 16, 16]          36,864\n",
      "      BatchNorm2d-16           [-1, 64, 16, 16]             128\n",
      "             ReLU-17           [-1, 64, 16, 16]               0\n",
      "          Dropout-18           [-1, 64, 16, 16]               0\n",
      "           Conv2d-19             [-1, 32, 8, 8]          18,432\n",
      "          Dropout-20             [-1, 32, 8, 8]               0\n",
      "           Conv2d-21             [-1, 64, 8, 8]          18,432\n",
      "      BatchNorm2d-22             [-1, 64, 8, 8]             128\n",
      "             ReLU-23             [-1, 64, 8, 8]               0\n",
      "          Dropout-24             [-1, 64, 8, 8]               0\n",
      "           Conv2d-25             [-1, 64, 8, 8]          36,864\n",
      "      BatchNorm2d-26             [-1, 64, 8, 8]             128\n",
      "             ReLU-27             [-1, 64, 8, 8]               0\n",
      "          Dropout-28             [-1, 64, 8, 8]               0\n",
      "           Conv2d-29             [-1, 32, 6, 6]          18,432\n",
      "      BatchNorm2d-30             [-1, 32, 6, 6]              64\n",
      "             ReLU-31             [-1, 32, 6, 6]               0\n",
      "          Dropout-32             [-1, 32, 6, 6]               0\n",
      "        AvgPool2d-33             [-1, 32, 1, 1]               0\n",
      "           Conv2d-34             [-1, 10, 1, 1]           2,880\n",
      "================================================================\n",
      "Total params: 188,832\n",
      "Trainable params: 188,832\n",
      "Non-trainable params: 0\n",
      "----------------------------------------------------------------\n",
      "Input size (MB): 0.01\n",
      "Forward/backward pass size (MB): 4.44\n",
      "Params size (MB): 0.72\n",
      "Estimated Total Size (MB): 5.17\n",
      "----------------------------------------------------------------\n"
     ]
    }
   ],
   "source": [
    "from torchsummary import summary\n",
    "use_cuda = torch.cuda.is_available()\n",
    "device = torch.device(\"cuda\" if use_cuda else \"cpu\")\n",
    "print(device)\n",
    "model = Net().to(device)\n",
    "summary(model, input_size=(3, 32, 32))"
   ]
  },
  {
   "cell_type": "code",
   "execution_count": 10,
   "id": "b88a2176-c459-4c75-9ee9-f68da807ab51",
   "metadata": {},
   "outputs": [],
   "source": [
    "import utils"
   ]
  },
  {
   "cell_type": "code",
   "execution_count": 11,
   "id": "0188c4a6-2f69-4944-92e8-875fadb66325",
   "metadata": {},
   "outputs": [
    {
     "name": "stdout",
     "output_type": "stream",
     "text": [
      "EPOCH: 0\n"
     ]
    },
    {
     "name": "stderr",
     "output_type": "stream",
     "text": [
      "Loss=1.8942149877548218 Batch_id=97 Accuracy=19.89: 100%|██████████| 98/98 [00:12<00:00,  8.09it/s]\n"
     ]
    },
    {
     "name": "stdout",
     "output_type": "stream",
     "text": [
      "\n",
      "Test set: Average loss: 1.8570, Accuracy: 2718/10000 (27.18%)\n",
      "\n",
      "EPOCH: 1\n"
     ]
    },
    {
     "name": "stderr",
     "output_type": "stream",
     "text": [
      "Loss=1.700166940689087 Batch_id=97 Accuracy=31.31: 100%|██████████| 98/98 [00:11<00:00,  8.24it/s] \n"
     ]
    },
    {
     "name": "stdout",
     "output_type": "stream",
     "text": [
      "\n",
      "Test set: Average loss: 1.9361, Accuracy: 3289/10000 (32.89%)\n",
      "\n",
      "EPOCH: 2\n"
     ]
    },
    {
     "name": "stderr",
     "output_type": "stream",
     "text": [
      "Loss=1.4836159944534302 Batch_id=97 Accuracy=40.07: 100%|██████████| 98/98 [00:11<00:00,  8.27it/s]\n"
     ]
    },
    {
     "name": "stdout",
     "output_type": "stream",
     "text": [
      "\n",
      "Test set: Average loss: 1.4167, Accuracy: 4635/10000 (46.35%)\n",
      "\n",
      "EPOCH: 3\n"
     ]
    },
    {
     "name": "stderr",
     "output_type": "stream",
     "text": [
      "Loss=1.3337496519088745 Batch_id=97 Accuracy=46.23: 100%|██████████| 98/98 [00:11<00:00,  8.30it/s]\n"
     ]
    },
    {
     "name": "stdout",
     "output_type": "stream",
     "text": [
      "\n",
      "Test set: Average loss: 1.3508, Accuracy: 5130/10000 (51.30%)\n",
      "\n",
      "EPOCH: 4\n"
     ]
    },
    {
     "name": "stderr",
     "output_type": "stream",
     "text": [
      "Loss=1.3336783647537231 Batch_id=97 Accuracy=50.88: 100%|██████████| 98/98 [00:11<00:00,  8.36it/s]\n"
     ]
    },
    {
     "name": "stdout",
     "output_type": "stream",
     "text": [
      "\n",
      "Test set: Average loss: 1.2854, Accuracy: 5322/10000 (53.22%)\n",
      "\n",
      "EPOCH: 5\n"
     ]
    },
    {
     "name": "stderr",
     "output_type": "stream",
     "text": [
      "Loss=1.1309075355529785 Batch_id=97 Accuracy=54.61: 100%|██████████| 98/98 [00:11<00:00,  8.23it/s]\n"
     ]
    },
    {
     "name": "stdout",
     "output_type": "stream",
     "text": [
      "\n",
      "Test set: Average loss: 1.2119, Accuracy: 5766/10000 (57.66%)\n",
      "\n",
      "EPOCH: 6\n"
     ]
    },
    {
     "name": "stderr",
     "output_type": "stream",
     "text": [
      "Loss=1.1336126327514648 Batch_id=97 Accuracy=57.34: 100%|██████████| 98/98 [00:12<00:00,  8.14it/s]\n"
     ]
    },
    {
     "name": "stdout",
     "output_type": "stream",
     "text": [
      "\n",
      "Test set: Average loss: 1.0708, Accuracy: 6209/10000 (62.09%)\n",
      "\n",
      "EPOCH: 7\n"
     ]
    },
    {
     "name": "stderr",
     "output_type": "stream",
     "text": [
      "Loss=1.058115005493164 Batch_id=97 Accuracy=59.65: 100%|██████████| 98/98 [00:12<00:00,  8.14it/s] \n"
     ]
    },
    {
     "name": "stdout",
     "output_type": "stream",
     "text": [
      "\n",
      "Test set: Average loss: 0.9583, Accuracy: 6511/10000 (65.11%)\n",
      "\n",
      "EPOCH: 8\n"
     ]
    },
    {
     "name": "stderr",
     "output_type": "stream",
     "text": [
      "Loss=0.9631409645080566 Batch_id=97 Accuracy=61.51: 100%|██████████| 98/98 [00:12<00:00,  8.16it/s]\n"
     ]
    },
    {
     "name": "stdout",
     "output_type": "stream",
     "text": [
      "\n",
      "Test set: Average loss: 0.8689, Accuracy: 6873/10000 (68.73%)\n",
      "\n",
      "EPOCH: 9\n"
     ]
    },
    {
     "name": "stderr",
     "output_type": "stream",
     "text": [
      "Loss=1.0281668901443481 Batch_id=97 Accuracy=63.46: 100%|██████████| 98/98 [00:11<00:00,  8.21it/s]\n"
     ]
    },
    {
     "name": "stdout",
     "output_type": "stream",
     "text": [
      "\n",
      "Test set: Average loss: 0.9238, Accuracy: 6720/10000 (67.20%)\n",
      "\n",
      "EPOCH: 10\n"
     ]
    },
    {
     "name": "stderr",
     "output_type": "stream",
     "text": [
      "Loss=0.8868533372879028 Batch_id=97 Accuracy=64.89: 100%|██████████| 98/98 [00:12<00:00,  8.14it/s]\n"
     ]
    },
    {
     "name": "stdout",
     "output_type": "stream",
     "text": [
      "\n",
      "Test set: Average loss: 0.8373, Accuracy: 7028/10000 (70.28%)\n",
      "\n",
      "EPOCH: 11\n"
     ]
    },
    {
     "name": "stderr",
     "output_type": "stream",
     "text": [
      "Loss=0.9270992279052734 Batch_id=97 Accuracy=66.10: 100%|██████████| 98/98 [00:11<00:00,  8.17it/s]\n"
     ]
    },
    {
     "name": "stdout",
     "output_type": "stream",
     "text": [
      "\n",
      "Test set: Average loss: 0.8668, Accuracy: 6959/10000 (69.59%)\n",
      "\n",
      "EPOCH: 12\n"
     ]
    },
    {
     "name": "stderr",
     "output_type": "stream",
     "text": [
      "Loss=0.9964320063591003 Batch_id=97 Accuracy=67.45: 100%|██████████| 98/98 [00:11<00:00,  8.28it/s]\n"
     ]
    },
    {
     "name": "stdout",
     "output_type": "stream",
     "text": [
      "\n",
      "Test set: Average loss: 0.7826, Accuracy: 7294/10000 (72.94%)\n",
      "\n",
      "EPOCH: 13\n"
     ]
    },
    {
     "name": "stderr",
     "output_type": "stream",
     "text": [
      "Loss=0.8985536694526672 Batch_id=97 Accuracy=68.55: 100%|██████████| 98/98 [00:11<00:00,  8.27it/s]\n"
     ]
    },
    {
     "name": "stdout",
     "output_type": "stream",
     "text": [
      "\n",
      "Test set: Average loss: 0.7560, Accuracy: 7386/10000 (73.86%)\n",
      "\n",
      "EPOCH: 14\n"
     ]
    },
    {
     "name": "stderr",
     "output_type": "stream",
     "text": [
      "Loss=0.8640304803848267 Batch_id=97 Accuracy=69.66: 100%|██████████| 98/98 [00:11<00:00,  8.25it/s]\n"
     ]
    },
    {
     "name": "stdout",
     "output_type": "stream",
     "text": [
      "\n",
      "Test set: Average loss: 0.7092, Accuracy: 7514/10000 (75.14%)\n",
      "\n",
      "EPOCH: 15\n"
     ]
    },
    {
     "name": "stderr",
     "output_type": "stream",
     "text": [
      "Loss=0.9142242670059204 Batch_id=97 Accuracy=70.01: 100%|██████████| 98/98 [00:12<00:00,  8.12it/s]\n"
     ]
    },
    {
     "name": "stdout",
     "output_type": "stream",
     "text": [
      "\n",
      "Test set: Average loss: 0.6534, Accuracy: 7757/10000 (77.57%)\n",
      "\n",
      "EPOCH: 16\n"
     ]
    },
    {
     "name": "stderr",
     "output_type": "stream",
     "text": [
      "Loss=0.8461915254592896 Batch_id=97 Accuracy=70.98: 100%|██████████| 98/98 [00:11<00:00,  8.24it/s]\n"
     ]
    },
    {
     "name": "stdout",
     "output_type": "stream",
     "text": [
      "\n",
      "Test set: Average loss: 0.6875, Accuracy: 7625/10000 (76.25%)\n",
      "\n",
      "EPOCH: 17\n"
     ]
    },
    {
     "name": "stderr",
     "output_type": "stream",
     "text": [
      "Loss=0.766706109046936 Batch_id=97 Accuracy=71.41: 100%|██████████| 98/98 [00:11<00:00,  8.17it/s] \n"
     ]
    },
    {
     "name": "stdout",
     "output_type": "stream",
     "text": [
      "\n",
      "Test set: Average loss: 0.6815, Accuracy: 7649/10000 (76.49%)\n",
      "\n",
      "EPOCH: 18\n"
     ]
    },
    {
     "name": "stderr",
     "output_type": "stream",
     "text": [
      "Loss=0.8912757039070129 Batch_id=97 Accuracy=72.18: 100%|██████████| 98/98 [00:12<00:00,  8.15it/s]\n"
     ]
    },
    {
     "name": "stdout",
     "output_type": "stream",
     "text": [
      "\n",
      "Test set: Average loss: 0.6331, Accuracy: 7881/10000 (78.81%)\n",
      "\n",
      "EPOCH: 19\n"
     ]
    },
    {
     "name": "stderr",
     "output_type": "stream",
     "text": [
      "Loss=0.7678874135017395 Batch_id=97 Accuracy=72.60: 100%|██████████| 98/98 [00:11<00:00,  8.17it/s]\n"
     ]
    },
    {
     "name": "stdout",
     "output_type": "stream",
     "text": [
      "\n",
      "Test set: Average loss: 0.6496, Accuracy: 7775/10000 (77.75%)\n",
      "\n",
      "EPOCH: 20\n"
     ]
    },
    {
     "name": "stderr",
     "output_type": "stream",
     "text": [
      "Loss=0.8141878247261047 Batch_id=97 Accuracy=72.95: 100%|██████████| 98/98 [00:11<00:00,  8.20it/s]\n"
     ]
    },
    {
     "name": "stdout",
     "output_type": "stream",
     "text": [
      "\n",
      "Test set: Average loss: 0.6080, Accuracy: 7871/10000 (78.71%)\n",
      "\n",
      "EPOCH: 21\n"
     ]
    },
    {
     "name": "stderr",
     "output_type": "stream",
     "text": [
      "Loss=0.744033932685852 Batch_id=97 Accuracy=73.44: 100%|██████████| 98/98 [00:12<00:00,  8.13it/s] \n"
     ]
    },
    {
     "name": "stdout",
     "output_type": "stream",
     "text": [
      "\n",
      "Test set: Average loss: 0.5859, Accuracy: 7998/10000 (79.98%)\n",
      "\n",
      "EPOCH: 22\n"
     ]
    },
    {
     "name": "stderr",
     "output_type": "stream",
     "text": [
      "Loss=0.733238935470581 Batch_id=97 Accuracy=73.91: 100%|██████████| 98/98 [00:11<00:00,  8.20it/s] \n"
     ]
    },
    {
     "name": "stdout",
     "output_type": "stream",
     "text": [
      "\n",
      "Test set: Average loss: 0.5872, Accuracy: 7954/10000 (79.54%)\n",
      "\n",
      "EPOCH: 23\n"
     ]
    },
    {
     "name": "stderr",
     "output_type": "stream",
     "text": [
      "Loss=0.7117785811424255 Batch_id=97 Accuracy=74.29: 100%|██████████| 98/98 [00:11<00:00,  8.27it/s]\n"
     ]
    },
    {
     "name": "stdout",
     "output_type": "stream",
     "text": [
      "\n",
      "Test set: Average loss: 0.5534, Accuracy: 8091/10000 (80.91%)\n",
      "\n",
      "EPOCH: 24\n"
     ]
    },
    {
     "name": "stderr",
     "output_type": "stream",
     "text": [
      "Loss=0.6740023493766785 Batch_id=97 Accuracy=74.86: 100%|██████████| 98/98 [00:11<00:00,  8.26it/s]\n"
     ]
    },
    {
     "name": "stdout",
     "output_type": "stream",
     "text": [
      "\n",
      "Test set: Average loss: 0.6371, Accuracy: 7854/10000 (78.54%)\n",
      "\n",
      "EPOCH: 25\n"
     ]
    },
    {
     "name": "stderr",
     "output_type": "stream",
     "text": [
      "Loss=0.6190874576568604 Batch_id=97 Accuracy=75.18: 100%|██████████| 98/98 [00:11<00:00,  8.24it/s]\n"
     ]
    },
    {
     "name": "stdout",
     "output_type": "stream",
     "text": [
      "\n",
      "Test set: Average loss: 0.5852, Accuracy: 7999/10000 (79.99%)\n",
      "\n",
      "EPOCH: 26\n"
     ]
    },
    {
     "name": "stderr",
     "output_type": "stream",
     "text": [
      "Loss=0.7608874440193176 Batch_id=97 Accuracy=75.30: 100%|██████████| 98/98 [00:12<00:00,  8.11it/s]\n"
     ]
    },
    {
     "name": "stdout",
     "output_type": "stream",
     "text": [
      "\n",
      "Test set: Average loss: 0.5469, Accuracy: 8114/10000 (81.14%)\n",
      "\n",
      "EPOCH: 27\n"
     ]
    },
    {
     "name": "stderr",
     "output_type": "stream",
     "text": [
      "Loss=0.6192095279693604 Batch_id=97 Accuracy=75.80: 100%|██████████| 98/98 [00:12<00:00,  8.16it/s]\n"
     ]
    },
    {
     "name": "stdout",
     "output_type": "stream",
     "text": [
      "\n",
      "Test set: Average loss: 0.5295, Accuracy: 8216/10000 (82.16%)\n",
      "\n",
      "EPOCH: 28\n"
     ]
    },
    {
     "name": "stderr",
     "output_type": "stream",
     "text": [
      "Loss=0.8056418299674988 Batch_id=97 Accuracy=75.89: 100%|██████████| 98/98 [00:11<00:00,  8.31it/s]\n"
     ]
    },
    {
     "name": "stdout",
     "output_type": "stream",
     "text": [
      "\n",
      "Test set: Average loss: 0.5548, Accuracy: 8101/10000 (81.01%)\n",
      "\n",
      "EPOCH: 29\n"
     ]
    },
    {
     "name": "stderr",
     "output_type": "stream",
     "text": [
      "Loss=0.7408990263938904 Batch_id=97 Accuracy=76.03: 100%|██████████| 98/98 [00:11<00:00,  8.30it/s]\n"
     ]
    },
    {
     "name": "stdout",
     "output_type": "stream",
     "text": [
      "\n",
      "Test set: Average loss: 0.5132, Accuracy: 8261/10000 (82.61%)\n",
      "\n",
      "EPOCH: 30\n"
     ]
    },
    {
     "name": "stderr",
     "output_type": "stream",
     "text": [
      "Loss=0.7399972677230835 Batch_id=97 Accuracy=76.71: 100%|██████████| 98/98 [00:11<00:00,  8.23it/s]\n"
     ]
    },
    {
     "name": "stdout",
     "output_type": "stream",
     "text": [
      "\n",
      "Test set: Average loss: 0.4764, Accuracy: 8355/10000 (83.55%)\n",
      "\n",
      "EPOCH: 31\n"
     ]
    },
    {
     "name": "stderr",
     "output_type": "stream",
     "text": [
      "Loss=0.7695485949516296 Batch_id=97 Accuracy=76.79: 100%|██████████| 98/98 [00:11<00:00,  8.17it/s]\n"
     ]
    },
    {
     "name": "stdout",
     "output_type": "stream",
     "text": [
      "\n",
      "Test set: Average loss: 0.5024, Accuracy: 8266/10000 (82.66%)\n",
      "\n",
      "EPOCH: 32\n"
     ]
    },
    {
     "name": "stderr",
     "output_type": "stream",
     "text": [
      "Loss=0.6625464558601379 Batch_id=97 Accuracy=77.12: 100%|██████████| 98/98 [00:11<00:00,  8.17it/s]\n"
     ]
    },
    {
     "name": "stdout",
     "output_type": "stream",
     "text": [
      "\n",
      "Test set: Average loss: 0.5269, Accuracy: 8193/10000 (81.93%)\n",
      "\n",
      "EPOCH: 33\n"
     ]
    },
    {
     "name": "stderr",
     "output_type": "stream",
     "text": [
      "Loss=0.6025756001472473 Batch_id=97 Accuracy=77.31: 100%|██████████| 98/98 [00:12<00:00,  8.17it/s]\n"
     ]
    },
    {
     "name": "stdout",
     "output_type": "stream",
     "text": [
      "\n",
      "Test set: Average loss: 0.4988, Accuracy: 8334/10000 (83.34%)\n",
      "\n",
      "EPOCH: 34\n"
     ]
    },
    {
     "name": "stderr",
     "output_type": "stream",
     "text": [
      "Loss=0.7306334972381592 Batch_id=97 Accuracy=77.51: 100%|██████████| 98/98 [00:12<00:00,  8.16it/s]\n"
     ]
    },
    {
     "name": "stdout",
     "output_type": "stream",
     "text": [
      "\n",
      "Test set: Average loss: 0.4765, Accuracy: 8357/10000 (83.57%)\n",
      "\n",
      "EPOCH: 35\n"
     ]
    },
    {
     "name": "stderr",
     "output_type": "stream",
     "text": [
      "Loss=0.7025015354156494 Batch_id=97 Accuracy=77.75: 100%|██████████| 98/98 [00:11<00:00,  8.18it/s]\n"
     ]
    },
    {
     "name": "stdout",
     "output_type": "stream",
     "text": [
      "\n",
      "Test set: Average loss: 0.5015, Accuracy: 8307/10000 (83.07%)\n",
      "\n",
      "EPOCH: 36\n"
     ]
    },
    {
     "name": "stderr",
     "output_type": "stream",
     "text": [
      "Loss=0.7008810639381409 Batch_id=97 Accuracy=77.55: 100%|██████████| 98/98 [00:11<00:00,  8.21it/s]\n"
     ]
    },
    {
     "name": "stdout",
     "output_type": "stream",
     "text": [
      "\n",
      "Test set: Average loss: 0.4804, Accuracy: 8374/10000 (83.74%)\n",
      "\n",
      "EPOCH: 37\n"
     ]
    },
    {
     "name": "stderr",
     "output_type": "stream",
     "text": [
      "Loss=0.5983460545539856 Batch_id=97 Accuracy=77.90: 100%|██████████| 98/98 [00:11<00:00,  8.21it/s]\n"
     ]
    },
    {
     "name": "stdout",
     "output_type": "stream",
     "text": [
      "\n",
      "Test set: Average loss: 0.4749, Accuracy: 8397/10000 (83.97%)\n",
      "\n",
      "EPOCH: 38\n"
     ]
    },
    {
     "name": "stderr",
     "output_type": "stream",
     "text": [
      "Loss=0.6931991577148438 Batch_id=97 Accuracy=78.25: 100%|██████████| 98/98 [00:11<00:00,  8.20it/s]\n"
     ]
    },
    {
     "name": "stdout",
     "output_type": "stream",
     "text": [
      "\n",
      "Test set: Average loss: 0.4749, Accuracy: 8354/10000 (83.54%)\n",
      "\n",
      "EPOCH: 39\n"
     ]
    },
    {
     "name": "stderr",
     "output_type": "stream",
     "text": [
      "Loss=0.6578537821769714 Batch_id=97 Accuracy=78.30: 100%|██████████| 98/98 [00:12<00:00,  8.07it/s]\n"
     ]
    },
    {
     "name": "stdout",
     "output_type": "stream",
     "text": [
      "\n",
      "Test set: Average loss: 0.4924, Accuracy: 8297/10000 (82.97%)\n",
      "\n",
      "EPOCH: 40\n"
     ]
    },
    {
     "name": "stderr",
     "output_type": "stream",
     "text": [
      "Loss=0.5960984826087952 Batch_id=97 Accuracy=78.65: 100%|██████████| 98/98 [00:12<00:00,  8.10it/s]\n"
     ]
    },
    {
     "name": "stdout",
     "output_type": "stream",
     "text": [
      "\n",
      "Test set: Average loss: 0.5038, Accuracy: 8287/10000 (82.87%)\n",
      "\n",
      "EPOCH: 41\n"
     ]
    },
    {
     "name": "stderr",
     "output_type": "stream",
     "text": [
      "Loss=0.6599270701408386 Batch_id=97 Accuracy=78.67: 100%|██████████| 98/98 [00:11<00:00,  8.17it/s]\n"
     ]
    },
    {
     "name": "stdout",
     "output_type": "stream",
     "text": [
      "\n",
      "Test set: Average loss: 0.4911, Accuracy: 8380/10000 (83.80%)\n",
      "\n",
      "EPOCH: 42\n"
     ]
    },
    {
     "name": "stderr",
     "output_type": "stream",
     "text": [
      "Loss=0.5619427561759949 Batch_id=97 Accuracy=79.01: 100%|██████████| 98/98 [00:12<00:00,  8.16it/s]\n"
     ]
    },
    {
     "name": "stdout",
     "output_type": "stream",
     "text": [
      "\n",
      "Test set: Average loss: 0.5225, Accuracy: 8200/10000 (82.00%)\n",
      "\n",
      "EPOCH: 43\n"
     ]
    },
    {
     "name": "stderr",
     "output_type": "stream",
     "text": [
      "Loss=0.5585114359855652 Batch_id=97 Accuracy=78.86: 100%|██████████| 98/98 [00:12<00:00,  8.15it/s]\n"
     ]
    },
    {
     "name": "stdout",
     "output_type": "stream",
     "text": [
      "\n",
      "Test set: Average loss: 0.4673, Accuracy: 8387/10000 (83.87%)\n",
      "\n",
      "EPOCH: 44\n"
     ]
    },
    {
     "name": "stderr",
     "output_type": "stream",
     "text": [
      "Loss=0.5450919270515442 Batch_id=97 Accuracy=79.06: 100%|██████████| 98/98 [00:11<00:00,  8.18it/s]\n"
     ]
    },
    {
     "name": "stdout",
     "output_type": "stream",
     "text": [
      "\n",
      "Test set: Average loss: 0.4470, Accuracy: 8483/10000 (84.83%)\n",
      "\n",
      "EPOCH: 45\n"
     ]
    },
    {
     "name": "stderr",
     "output_type": "stream",
     "text": [
      "Loss=0.739210844039917 Batch_id=97 Accuracy=79.15: 100%|██████████| 98/98 [00:11<00:00,  8.20it/s]  \n"
     ]
    },
    {
     "name": "stdout",
     "output_type": "stream",
     "text": [
      "\n",
      "Test set: Average loss: 0.4848, Accuracy: 8352/10000 (83.52%)\n",
      "\n",
      "EPOCH: 46\n"
     ]
    },
    {
     "name": "stderr",
     "output_type": "stream",
     "text": [
      "Loss=0.5572364926338196 Batch_id=97 Accuracy=79.38: 100%|██████████| 98/98 [00:12<00:00,  8.13it/s]\n"
     ]
    },
    {
     "name": "stdout",
     "output_type": "stream",
     "text": [
      "\n",
      "Test set: Average loss: 0.4232, Accuracy: 8571/10000 (85.71%)\n",
      "\n",
      "EPOCH: 47\n"
     ]
    },
    {
     "name": "stderr",
     "output_type": "stream",
     "text": [
      "Loss=0.6394081711769104 Batch_id=97 Accuracy=79.43: 100%|██████████| 98/98 [00:11<00:00,  8.22it/s]\n"
     ]
    },
    {
     "name": "stdout",
     "output_type": "stream",
     "text": [
      "\n",
      "Test set: Average loss: 0.4479, Accuracy: 8497/10000 (84.97%)\n",
      "\n",
      "EPOCH: 48\n"
     ]
    },
    {
     "name": "stderr",
     "output_type": "stream",
     "text": [
      "Loss=0.6047760844230652 Batch_id=97 Accuracy=80.01: 100%|██████████| 98/98 [00:11<00:00,  8.27it/s]\n"
     ]
    },
    {
     "name": "stdout",
     "output_type": "stream",
     "text": [
      "\n",
      "Test set: Average loss: 0.4302, Accuracy: 8562/10000 (85.62%)\n",
      "\n",
      "EPOCH: 49\n"
     ]
    },
    {
     "name": "stderr",
     "output_type": "stream",
     "text": [
      "Loss=0.6038393974304199 Batch_id=97 Accuracy=79.79: 100%|██████████| 98/98 [00:11<00:00,  8.20it/s] \n"
     ]
    },
    {
     "name": "stdout",
     "output_type": "stream",
     "text": [
      "\n",
      "Test set: Average loss: 0.4380, Accuracy: 8491/10000 (84.91%)\n",
      "\n",
      "EPOCH: 50\n"
     ]
    },
    {
     "name": "stderr",
     "output_type": "stream",
     "text": [
      "Loss=0.5725572109222412 Batch_id=97 Accuracy=79.95: 100%|██████████| 98/98 [00:11<00:00,  8.23it/s] \n"
     ]
    },
    {
     "name": "stdout",
     "output_type": "stream",
     "text": [
      "\n",
      "Test set: Average loss: 0.4184, Accuracy: 8597/10000 (85.97%)\n",
      "\n"
     ]
    }
   ],
   "source": [
    "from torch.optim.lr_scheduler import StepLR\n",
    "\n",
    "model =  Net().to(device)\n",
    "optimizer = optim.SGD(model.parameters(), lr=0.01, momentum=0.9)\n",
    "# scheduler = StepLR(optimizer, step_size=6, gamma=0.1)\n",
    "\n",
    "\n",
    "EPOCHS = 51\n",
    "for epoch in range(EPOCHS):\n",
    "    print(\"EPOCH:\", epoch)\n",
    "    utils.train(model, device, train_loader, optimizer, epoch)\n",
    "    # scheduler.step()\n",
    "    utils.test(model, device, test_loader)"
   ]
  },
  {
   "cell_type": "markdown",
   "id": "3d583082-e396-48d0-bc0a-a4bfe5d75f16",
   "metadata": {},
   "source": [
    "# Target"
   ]
  },
  {
   "cell_type": "raw",
   "id": "73732ddb-be08-48ab-a5cb-aa1ede45d7c7",
   "metadata": {},
   "source": [
    "1) Write a new network that has the architecture to C1C2C3C40 (No MaxPooling, but 3 convolutions, where the last one has a stride of 2 instead)\n",
    "\n",
    "2) Total RF must be more than 44\n",
    "\n",
    "3) One of the layers must use Depthwise Separable Convolution\n",
    "\n",
    "4) One of the layers must use Dilated Convolution\n",
    "\n",
    "5) Use GAP (compulsory):- add FC after GAP to target #of classes (optional)\n",
    "\n",
    "6) Use albumentation library and apply:\n",
    "    i) horizontal flip\n",
    "    ii) shiftScaleRotate\n",
    "    iii) coarseDropout (max_holes = 1, max_height=16px, max_width=16, min_holes = 1, min_height=16px, min_width=16px, fill_value=(mean of your dataset), mask_fill_value = None)\n",
    "\n",
    "7) Achieve 85% accuracy, as many epochs as you want. Total Params to be less than 200k."
   ]
  },
  {
   "cell_type": "markdown",
   "id": "5f6397fb-4b6c-43db-b2a9-e9795027de2f",
   "metadata": {},
   "source": [
    "# Results"
   ]
  },
  {
   "cell_type": "raw",
   "id": "83483212-70a7-41df-9227-762716fa476a",
   "metadata": {},
   "source": [
    "1) We achieve best test accuracy of 85.97% at 50th epoch\n",
    "\n",
    "2) We achieve total receptive field of more than 44 i.e.57 at last layer\n",
    "\n",
    "3) Have used GAP layer also\n",
    "\n",
    "4) Have implemented albumentation library also with all 3 points covered which is horizontal flip, shiftScaleRotate and coarseDropout\n",
    "\n",
    "5) Build the model with the total params less than 200k i.e.188,832"
   ]
  },
  {
   "cell_type": "code",
   "execution_count": null,
   "id": "c93c4995-481b-429c-af56-13700459522d",
   "metadata": {},
   "outputs": [],
   "source": []
  }
 ],
 "metadata": {
  "kernelspec": {
   "display_name": "Python 3 (ipykernel)",
   "language": "python",
   "name": "python3"
  },
  "language_info": {
   "codemirror_mode": {
    "name": "ipython",
    "version": 3
   },
   "file_extension": ".py",
   "mimetype": "text/x-python",
   "name": "python",
   "nbconvert_exporter": "python",
   "pygments_lexer": "ipython3",
   "version": "3.11.7"
  }
 },
 "nbformat": 4,
 "nbformat_minor": 5
}
